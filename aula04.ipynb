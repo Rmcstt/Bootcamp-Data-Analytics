{
 "cells": [
  {
   "cell_type": "code",
   "execution_count": 1,
   "id": "fff4d0e8-a28f-497a-b79a-a88d66f21854",
   "metadata": {},
   "outputs": [],
   "source": [
    "# importando alguns pacotes\n",
    "\n",
    "#modelagem de dados\n",
    "import pandas as pd\n",
    "import numpy as np\n",
    "\n",
    "#numeros aleatorios\n",
    "import random\n",
    "\n",
    "#datas\n",
    "import datetime\n",
    "\n",
    "#web scrappimg\n",
    "import requests\n",
    "from bs4 import BeautifulSoup\n",
    "\n",
    "#dados aleatorios\n",
    "from faker import Faker\n",
    "from cpf_generator import CPF"
   ]
  },
  {
   "cell_type": "code",
   "execution_count": 3,
   "id": "e49ea4d9-fcfa-47cb-bdd1-017a925f9854",
   "metadata": {},
   "outputs": [],
   "source": [
    "# gerador fake\n",
    "\n",
    "gerador = Faker(locale='pt_BR')"
   ]
  },
  {
   "cell_type": "code",
   "execution_count": 39,
   "id": "0581c737-ee2a-4086-9b42-6cc4acba8552",
   "metadata": {},
   "outputs": [
    {
     "name": "stdout",
     "output_type": "stream",
     "text": [
      "Sr. Luiz Fernando Gonçalves, 835.172.409-23, Setor Leandro da Cruz, 80\n",
      "Boa União 2ª Seção\n",
      "89195-220 Nascimento / PI\n",
      "\n",
      "\n",
      "\n",
      "Théo Aragão, 094.156.328-60, Favela Emilly Ferreira, 9\n",
      "Conjunto Paulo Vi\n",
      "23546526 Aragão / MS\n",
      "\n",
      "\n",
      "\n",
      "Dr. Pedro Lucas Oliveira, 018.745.369-10, Vereda de Abreu, 62\n",
      "São Cristóvão\n",
      "13258-990 Mendes da Mata / MG\n",
      "\n",
      "\n",
      "\n",
      "Ian Costa, 749.038.561-00, Morro de Barros, 55\n",
      "Vila Nova Gameleira 3ª Seção\n",
      "59593-610 da Mata / MT\n",
      "\n",
      "\n",
      "\n",
      "Alana Novais, 150.423.896-60, Ladeira de Santos, 18\n",
      "Novo Aarão Reis\n",
      "76998865 Correia Paulista / GO\n",
      "\n",
      "\n",
      "\n"
     ]
    }
   ],
   "source": [
    "for loop in range(5):\n",
    "    print(f'{gerador.name()}, {gerador.cpf()}, {gerador.address()}\\n\\n\\n')"
   ]
  },
  {
   "cell_type": "code",
   "execution_count": 51,
   "id": "8a5f927f-71a5-415f-ad9f-b7802767c72a",
   "metadata": {},
   "outputs": [
    {
     "name": "stdout",
     "output_type": "stream",
     "text": [
      "78508360223\n",
      "35409743342\n",
      "21702604713\n",
      "46028563900\n",
      "52880935121\n"
     ]
    }
   ],
   "source": [
    "# gerr CPF\n",
    "geraCpf = CPF.generate()\n",
    "\n",
    "for loop in range(5):\n",
    "    geraCpf = CPF.generate()\n",
    "    print( geraCpf )"
   ]
  },
  {
   "cell_type": "code",
   "execution_count": 79,
   "id": "417a7989-41dc-4987-a2f8-888821e872f5",
   "metadata": {},
   "outputs": [],
   "source": [
    "# gerar RG\n",
    "# sequencia 9 digitos + estado de horigem \n",
    "\n",
    "def Gerador_RG():\n",
    "    # criar uma sequencia de 9 digitos \n",
    "    Numero_RG = str(random.randint(100000000, 999999999))\n",
    "\n",
    "    # Estado\n",
    "    Estado_Origem = str( random.randint(0, 9) )\n",
    "\n",
    "    # Juntar ambos\n",
    "    Numero = f'{Numero_RG}.{Estado_Origem}'\n",
    "    \n",
    "    return Numero"
   ]
  },
  {
   "cell_type": "code",
   "execution_count": 85,
   "id": "f4a547cc-9b6b-4773-b85d-8cf32996d535",
   "metadata": {},
   "outputs": [
    {
     "data": {
      "text/plain": [
       "'320833913.0'"
      ]
     },
     "execution_count": 85,
     "metadata": {},
     "output_type": "execute_result"
    }
   ],
   "source": [
    "Gerador_RG()"
   ]
  },
  {
   "cell_type": "code",
   "execution_count": 87,
   "id": "81742e80-62eb-403a-ba3c-2091ba97e3c5",
   "metadata": {},
   "outputs": [
    {
     "name": "stdout",
     "output_type": "stream",
     "text": [
      "523745099.1\n",
      "151386930.8\n",
      "902245470.0\n",
      "162469958.1\n",
      "839335107.3\n",
      "688609738.1\n",
      "727756403.3\n",
      "491940900.9\n",
      "619726373.0\n",
      "232904337.7\n"
     ]
    }
   ],
   "source": [
    "# loop \n",
    "\n",
    "for loop in range(10):\n",
    "    \n",
    "    print(Gerador_RG())"
   ]
  },
  {
   "cell_type": "code",
   "execution_count": 95,
   "id": "978f4f04-89e4-473f-bc8b-3fbf0ee2caab",
   "metadata": {},
   "outputs": [
    {
     "name": "stdout",
     "output_type": "stream",
     "text": [
      "<class 'bs4.BeautifulSoup'>\n",
      "None\n"
     ]
    }
   ],
   "source": [
    "# dados do scrapping\n",
    "URL_glass = 'https://www.glassdoor.com.br/Salários/canadá-engenheiro-de-dados-salário-SRCH_IL.0,6_IN3_KO7,26.htm?clickSource=searchBtn'\n",
    "\n",
    "Conexao = requests.get(URL_glass)\n",
    "\n",
    "# coletando informações da pagina\n",
    "\n",
    "Coleta = BeautifulSoup(Conexao.text, 'html.parser')\n",
    "\n",
    "print( type(Coleta))\n",
    "\n",
    "print(Coleta.title)\n",
    "\n"
   ]
  },
  {
   "cell_type": "code",
   "execution_count": 103,
   "id": "10918ad5-7f05-47bf-b89c-4bbac2b73dd0",
   "metadata": {
    "scrolled": true
   },
   "outputs": [],
   "source": [
    "Var = \"\"\"\n",
    "\n",
    "\"\"\""
   ]
  },
  {
   "cell_type": "code",
   "execution_count": null,
   "id": "8e8251d4-5e88-44b8-a9cf-aeecc52be933",
   "metadata": {},
   "outputs": [],
   "source": [
    "Coleta = BeautifulSoup( Var, 'html.parser')\n",
    "Tabela = Coleta.find_all('div', attrs={'class':' salary-card_TotalPay__tVZF_ '})\n",
    "print(Tabelas)"
   ]
  },
  {
   "cell_type": "code",
   "execution_count": 197,
   "id": "684d18d5-e788-429b-bc45-fc84b3a0a40d",
   "metadata": {},
   "outputs": [
    {
     "data": {
      "text/plain": [
       "[<div class=\"salary-card_TotalPay__tVZF_\">\n",
       "                                                     CA$ 105 mil<!-- -->\n",
       "                                                      - <!-- -->\n",
       "                                                     CA$ 150 mil\n",
       "                                                 </div>]"
      ]
     },
     "execution_count": 197,
     "metadata": {},
     "output_type": "execute_result"
    }
   ],
   "source": [
    "Tabelas[0].find_all('div', attrs={'class':'salary-card_TotalPay__tVZF_'})"
   ]
  },
  {
   "cell_type": "code",
   "execution_count": 241,
   "id": "dd5d710a-4b38-4fe2-8cca-7b2586594bb3",
   "metadata": {},
   "outputs": [
    {
     "data": {
      "text/plain": [
       "[<div class=\"salary-card_TotalPay__tVZF_\">\n",
       "                                                     CA$ 85 mil<!-- -->\n",
       "                                                      - <!-- -->\n",
       "                                                     CA$ 109 mil\n",
       "                                                 </div>]"
      ]
     },
     "execution_count": 241,
     "metadata": {},
     "output_type": "execute_result"
    }
   ],
   "source": [
    "Tabelas[1].find_all('div', attrs={'class':'salary-card_TotalPay__tVZF_'})"
   ]
  },
  {
   "cell_type": "code",
   "execution_count": 211,
   "id": "29a084e4-21c4-4870-b8be-50fcd0f99913",
   "metadata": {},
   "outputs": [
    {
     "data": {
      "text/plain": [
       "[<p class=\"salary-card_EmployerName__H6Gtr\">RBC</p>]"
      ]
     },
     "execution_count": 211,
     "metadata": {},
     "output_type": "execute_result"
    }
   ],
   "source": [
    "Tabelas[1].find_all('p', attrs={'class':'salary-card_EmployerName__H6Gtr'})\n"
   ]
  },
  {
   "cell_type": "code",
   "execution_count": 276,
   "id": "a9fb0e87-5932-4eba-b7be-04e1e5040112",
   "metadata": {},
   "outputs": [
    {
     "data": {
      "text/plain": [
       "('RBC',\n",
       " '\\n                                                    CA$\\xa085\\xa0mil\\n                                                     - \\n                                                    CA$\\xa0109\\xa0mil\\n                                                ')"
      ]
     },
     "execution_count": 276,
     "metadata": {},
     "output_type": "execute_result"
    }
   ],
   "source": [
    "Tabelas[1].find_all('p')[0].text, Tabelas[1].find_all('div', attrs={'class':'salary-card_TotalPay__tVZF_'})[0].text"
   ]
  },
  {
   "cell_type": "code",
   "execution_count": 272,
   "id": "b762be00-ba44-4b9f-84cf-d9af6f5f8674",
   "metadata": {},
   "outputs": [
    {
     "data": {
      "text/plain": [
       "('Bell',\n",
       " '\\n                                                    CA$\\xa0105\\xa0mil\\n                                                     - \\n                                                    CA$\\xa0150\\xa0mil\\n                                                ')"
      ]
     },
     "execution_count": 272,
     "metadata": {},
     "output_type": "execute_result"
    }
   ],
   "source": [
    "Tabelas[3].find_all('p')[0].text, Tabelas[0].find_all('div', attrs={'class':'salary-card_TotalPay__tVZF_'})[0].text\n"
   ]
  },
  {
   "cell_type": "code",
   "execution_count": 251,
   "id": "429231bc-d804-4c74-acca-8c647b48b99d",
   "metadata": {},
   "outputs": [
    {
     "name": "stdout",
     "output_type": "stream",
     "text": [
      "Shopify  R$: \n",
      "                                                    CA$ 105 mil\n",
      "                                                     - \n",
      "                                                    CA$ 150 mil\n",
      "                                                \n",
      "RBC  R$: \n",
      "                                                    CA$ 85 mil\n",
      "                                                     - \n",
      "                                                    CA$ 109 mil\n",
      "                                                \n",
      "Scotiabank  R$: \n",
      "                                                    CA$ 92 mil\n",
      "                                                     - \n",
      "                                                    CA$ 115 mil\n",
      "                                                \n",
      "Bell  R$: \n",
      "                                                    CA$ 80 mil\n",
      "                                                     - \n",
      "                                                    CA$ 99 mil\n",
      "                                                \n",
      "TD  R$: \n",
      "                                                    CA$ 82 mil\n",
      "                                                     - \n",
      "                                                    CA$ 110 mil\n",
      "                                                \n",
      "Loblaw Companies  R$: \n",
      "                                                    CA$ 88 mil\n",
      "                                                     - \n",
      "                                                    CA$ 111 mil\n",
      "                                                \n",
      "Scotiabank  R$: \n",
      "                                                    CA$ 80 mil\n",
      "                                                     - \n",
      "                                                    CA$ 110 mil\n",
      "                                                \n",
      "RBC  R$: \n",
      "                                                    CA$ 85 mil\n",
      "                                                     - \n",
      "                                                    CA$ 105 mil\n",
      "                                                \n",
      "Banque Nationale du Canada/National Bank of Canada  R$: \n",
      "                                                    CA$ 75 mil\n",
      "                                                     - \n",
      "                                                    CA$ 91 mil\n",
      "                                                \n",
      "RBC  R$: \n",
      "                                                    CA$ 105 mil\n",
      "                                                     - \n",
      "                                                    CA$ 139 mil\n",
      "                                                \n"
     ]
    }
   ],
   "source": [
    "Lista_Empresas = []\n",
    "Lista_Salarios = []\n",
    "\n",
    "for loop in Tabelas:\n",
    "    Nome_Empresa = loop.find_all('p')[0].text\n",
    "    Salario = loop.find_all('div', attrs={'class':'salary-card_TotalPay__tVZF_'})[0].text\n",
    "\n",
    "    Lista_Empresas.append(Nome_Empresa)\n",
    "    Lista_Salarios.append(salario)\n",
    "\n",
    "    print(Nome_Empresa, ' R$:',Salario)  \n"
   ]
  },
  {
   "cell_type": "code",
   "execution_count": 341,
   "id": "709880fc-8e34-4882-96e8-f9b9fd8b0f0a",
   "metadata": {},
   "outputs": [
    {
     "data": {
      "text/html": [
       "<div>\n",
       "<style scoped>\n",
       "    .dataframe tbody tr th:only-of-type {\n",
       "        vertical-align: middle;\n",
       "    }\n",
       "\n",
       "    .dataframe tbody tr th {\n",
       "        vertical-align: top;\n",
       "    }\n",
       "\n",
       "    .dataframe thead th {\n",
       "        text-align: right;\n",
       "    }\n",
       "</style>\n",
       "<table border=\"1\" class=\"dataframe\">\n",
       "  <thead>\n",
       "    <tr style=\"text-align: right;\">\n",
       "      <th></th>\n",
       "      <th>ID</th>\n",
       "      <th>Nome</th>\n",
       "      <th>Data Nascimento</th>\n",
       "      <th>CPF</th>\n",
       "      <th>RG</th>\n",
       "      <th>Data Admissao</th>\n",
       "      <th>Salario</th>\n",
       "      <th>Empresa</th>\n",
       "      <th>Departamentos</th>\n",
       "    </tr>\n",
       "  </thead>\n",
       "  <tbody>\n",
       "    <tr>\n",
       "      <th>0</th>\n",
       "      <td>1</td>\n",
       "      <td>Pedro Miguel Campos</td>\n",
       "      <td>2002-08-03</td>\n",
       "      <td>52880935121</td>\n",
       "      <td>534190359.0</td>\n",
       "      <td>2019-08-27</td>\n",
       "      <td>\\n                                            ...</td>\n",
       "      <td>RBC</td>\n",
       "      <td>Operações</td>\n",
       "    </tr>\n",
       "  </tbody>\n",
       "</table>\n",
       "</div>"
      ],
      "text/plain": [
       "   ID                 Nome Data Nascimento          CPF           RG  \\\n",
       "0   1  Pedro Miguel Campos      2002-08-03  52880935121  534190359.0   \n",
       "\n",
       "  Data Admissao                                            Salario Empresa  \\\n",
       "0    2019-08-27  \\n                                            ...     RBC   \n",
       "\n",
       "  Departamentos  \n",
       "0     Operações  "
      ]
     },
     "execution_count": 341,
     "metadata": {},
     "output_type": "execute_result"
    }
   ],
   "source": [
    "# 1º experimento\n",
    "Dados = {\n",
    "    'ID' : 1,\n",
    "    'Nome' : gerador.name(),\n",
    "    'Data Nascimento' : gerador.date_of_birth(minimum_age=18, maximum_age=50 ),\n",
    "    'CPF' : geraCpf,\n",
    "    'RG' : Gerador_RG(),\n",
    "    'Data Admissao' : gerador.date_of_birth(minimum_age=2, maximum_age=5 ),\n",
    "    'Salario' : Lista_Salarios[random.randint(0, 9)],\n",
    "    'Empresa' : Lista_Empresas[random.randint(0, 9)],\n",
    "    'Departamentos' : random.choice(['Operações','Adm','Tecnologia'])\n",
    "}\n",
    "\n",
    "pd.DataFrame(Dados,index=[0])\n"
   ]
  },
  {
   "cell_type": "code",
   "execution_count": 351,
   "id": "f4fd419f-c693-47ed-97a8-c8027b5fe041",
   "metadata": {},
   "outputs": [
    {
     "name": "stdout",
     "output_type": "stream",
     "text": [
      "Shopify \n",
      "                                                    CA$ 105 mil\n",
      "                                                     - \n",
      "                                                    CA$ 139 mil\n",
      "                                                \n",
      "RBC \n",
      "                                                    CA$ 105 mil\n",
      "                                                     - \n",
      "                                                    CA$ 139 mil\n",
      "                                                \n",
      "Scotiabank \n",
      "                                                    CA$ 105 mil\n",
      "                                                     - \n",
      "                                                    CA$ 139 mil\n",
      "                                                \n",
      "Bell \n",
      "                                                    CA$ 105 mil\n",
      "                                                     - \n",
      "                                                    CA$ 139 mil\n",
      "                                                \n",
      "TD \n",
      "                                                    CA$ 105 mil\n",
      "                                                     - \n",
      "                                                    CA$ 139 mil\n",
      "                                                \n",
      "Loblaw Companies \n",
      "                                                    CA$ 105 mil\n",
      "                                                     - \n",
      "                                                    CA$ 139 mil\n",
      "                                                \n",
      "Scotiabank \n",
      "                                                    CA$ 105 mil\n",
      "                                                     - \n",
      "                                                    CA$ 139 mil\n",
      "                                                \n",
      "RBC \n",
      "                                                    CA$ 105 mil\n",
      "                                                     - \n",
      "                                                    CA$ 139 mil\n",
      "                                                \n",
      "Banque Nationale du Canada/National Bank of Canada \n",
      "                                                    CA$ 105 mil\n",
      "                                                     - \n",
      "                                                    CA$ 139 mil\n",
      "                                                \n",
      "RBC \n",
      "                                                    CA$ 105 mil\n",
      "                                                     - \n",
      "                                                    CA$ 139 mil\n",
      "                                                \n"
     ]
    }
   ],
   "source": [
    "# variavel de apoio\n",
    "Contador = 0\n",
    "\n",
    "# Dados sinteticos\n",
    "Dados_Loop = []\n",
    "\n",
    "for Empresa,Salario in zip( Lista_Empresas, Lista_Salarios ):\n",
    "    geraCpf = CPF.generate()\n",
    "\n",
    "    Dados = {\n",
    "        'ID' : Contador + 1,\n",
    "        'Nome' : gerador.name(),\n",
    "        'Data Nascimento' : gerador.date_of_birth(minimum_age=18, maximum_age=50 ),\n",
    "        'CPF' : geraCpf,\n",
    "        'RG' : Gerador_RG(),\n",
    "        'Data Admissao' : gerador.date_of_birth(minimum_age=2, maximum_age=5 ),\n",
    "        'Salario' : Lista_Salarios[Contador],\n",
    "        'Empresa' : Lista_Empresas[Contador],\n",
    "        'Departamentos' : random.choice(['Operações','Adm','Tecnologia'])\n",
    "    }\n",
    "    Contador += 1\n",
    "\n",
    "    Dados_Loop.append(Dados)\n",
    "    \n",
    "    print( Empresa, Salario)"
   ]
  },
  {
   "cell_type": "code",
   "execution_count": 357,
   "id": "08b15f63-4e30-43a9-adf2-9c7874cffb4c",
   "metadata": {},
   "outputs": [
    {
     "data": {
      "text/html": [
       "<div>\n",
       "<style scoped>\n",
       "    .dataframe tbody tr th:only-of-type {\n",
       "        vertical-align: middle;\n",
       "    }\n",
       "\n",
       "    .dataframe tbody tr th {\n",
       "        vertical-align: top;\n",
       "    }\n",
       "\n",
       "    .dataframe thead th {\n",
       "        text-align: right;\n",
       "    }\n",
       "</style>\n",
       "<table border=\"1\" class=\"dataframe\">\n",
       "  <thead>\n",
       "    <tr style=\"text-align: right;\">\n",
       "      <th></th>\n",
       "      <th>ID</th>\n",
       "      <th>Nome</th>\n",
       "      <th>Data Nascimento</th>\n",
       "      <th>CPF</th>\n",
       "      <th>RG</th>\n",
       "      <th>Data Admissao</th>\n",
       "      <th>Salario</th>\n",
       "      <th>Empresa</th>\n",
       "      <th>Departamentos</th>\n",
       "    </tr>\n",
       "  </thead>\n",
       "  <tbody>\n",
       "    <tr>\n",
       "      <th>0</th>\n",
       "      <td>1</td>\n",
       "      <td>Juan Novaes</td>\n",
       "      <td>2005-04-24</td>\n",
       "      <td>51549422219</td>\n",
       "      <td>958115973.6</td>\n",
       "      <td>2021-01-18</td>\n",
       "      <td>\\n                                            ...</td>\n",
       "      <td>Shopify</td>\n",
       "      <td>Operações</td>\n",
       "    </tr>\n",
       "    <tr>\n",
       "      <th>1</th>\n",
       "      <td>2</td>\n",
       "      <td>Vinicius Lima</td>\n",
       "      <td>1985-09-20</td>\n",
       "      <td>61608377709</td>\n",
       "      <td>397368297.9</td>\n",
       "      <td>2020-05-24</td>\n",
       "      <td>\\n                                            ...</td>\n",
       "      <td>RBC</td>\n",
       "      <td>Operações</td>\n",
       "    </tr>\n",
       "    <tr>\n",
       "      <th>2</th>\n",
       "      <td>3</td>\n",
       "      <td>Dra. Olívia Mendes</td>\n",
       "      <td>1980-03-23</td>\n",
       "      <td>60180327160</td>\n",
       "      <td>884202878.8</td>\n",
       "      <td>2019-02-27</td>\n",
       "      <td>\\n                                            ...</td>\n",
       "      <td>Scotiabank</td>\n",
       "      <td>Operações</td>\n",
       "    </tr>\n",
       "    <tr>\n",
       "      <th>3</th>\n",
       "      <td>4</td>\n",
       "      <td>João Gabriel Freitas</td>\n",
       "      <td>1998-12-11</td>\n",
       "      <td>80387859594</td>\n",
       "      <td>630325603.6</td>\n",
       "      <td>2019-03-22</td>\n",
       "      <td>\\n                                            ...</td>\n",
       "      <td>Bell</td>\n",
       "      <td>Tecnologia</td>\n",
       "    </tr>\n",
       "    <tr>\n",
       "      <th>4</th>\n",
       "      <td>5</td>\n",
       "      <td>Maria Liz Correia</td>\n",
       "      <td>1974-08-29</td>\n",
       "      <td>11901945030</td>\n",
       "      <td>225236645.3</td>\n",
       "      <td>2021-07-18</td>\n",
       "      <td>\\n                                            ...</td>\n",
       "      <td>TD</td>\n",
       "      <td>Adm</td>\n",
       "    </tr>\n",
       "    <tr>\n",
       "      <th>5</th>\n",
       "      <td>6</td>\n",
       "      <td>Maria Eduarda Sampaio</td>\n",
       "      <td>1977-07-10</td>\n",
       "      <td>65283553981</td>\n",
       "      <td>504244011.0</td>\n",
       "      <td>2019-09-18</td>\n",
       "      <td>\\n                                            ...</td>\n",
       "      <td>Loblaw Companies</td>\n",
       "      <td>Operações</td>\n",
       "    </tr>\n",
       "    <tr>\n",
       "      <th>6</th>\n",
       "      <td>7</td>\n",
       "      <td>Lucas Gabriel Almeida</td>\n",
       "      <td>1985-07-17</td>\n",
       "      <td>13002659061</td>\n",
       "      <td>866465460.2</td>\n",
       "      <td>2020-12-07</td>\n",
       "      <td>\\n                                            ...</td>\n",
       "      <td>Scotiabank</td>\n",
       "      <td>Operações</td>\n",
       "    </tr>\n",
       "    <tr>\n",
       "      <th>7</th>\n",
       "      <td>8</td>\n",
       "      <td>Samuel Moraes</td>\n",
       "      <td>1976-07-01</td>\n",
       "      <td>27981537355</td>\n",
       "      <td>269642677.7</td>\n",
       "      <td>2020-06-14</td>\n",
       "      <td>\\n                                            ...</td>\n",
       "      <td>RBC</td>\n",
       "      <td>Adm</td>\n",
       "    </tr>\n",
       "    <tr>\n",
       "      <th>8</th>\n",
       "      <td>9</td>\n",
       "      <td>Sr. Ian Cavalcante</td>\n",
       "      <td>1985-04-01</td>\n",
       "      <td>10915513161</td>\n",
       "      <td>778056992.7</td>\n",
       "      <td>2020-01-07</td>\n",
       "      <td>\\n                                            ...</td>\n",
       "      <td>Banque Nationale du Canada/National Bank of Ca...</td>\n",
       "      <td>Tecnologia</td>\n",
       "    </tr>\n",
       "    <tr>\n",
       "      <th>9</th>\n",
       "      <td>10</td>\n",
       "      <td>Yago Pimenta</td>\n",
       "      <td>1978-03-06</td>\n",
       "      <td>70893612685</td>\n",
       "      <td>364204301.1</td>\n",
       "      <td>2020-09-03</td>\n",
       "      <td>\\n                                            ...</td>\n",
       "      <td>RBC</td>\n",
       "      <td>Adm</td>\n",
       "    </tr>\n",
       "  </tbody>\n",
       "</table>\n",
       "</div>"
      ],
      "text/plain": [
       "   ID                   Nome Data Nascimento          CPF           RG  \\\n",
       "0   1            Juan Novaes      2005-04-24  51549422219  958115973.6   \n",
       "1   2          Vinicius Lima      1985-09-20  61608377709  397368297.9   \n",
       "2   3     Dra. Olívia Mendes      1980-03-23  60180327160  884202878.8   \n",
       "3   4   João Gabriel Freitas      1998-12-11  80387859594  630325603.6   \n",
       "4   5      Maria Liz Correia      1974-08-29  11901945030  225236645.3   \n",
       "5   6  Maria Eduarda Sampaio      1977-07-10  65283553981  504244011.0   \n",
       "6   7  Lucas Gabriel Almeida      1985-07-17  13002659061  866465460.2   \n",
       "7   8          Samuel Moraes      1976-07-01  27981537355  269642677.7   \n",
       "8   9     Sr. Ian Cavalcante      1985-04-01  10915513161  778056992.7   \n",
       "9  10           Yago Pimenta      1978-03-06  70893612685  364204301.1   \n",
       "\n",
       "  Data Admissao                                            Salario  \\\n",
       "0    2021-01-18  \\n                                            ...   \n",
       "1    2020-05-24  \\n                                            ...   \n",
       "2    2019-02-27  \\n                                            ...   \n",
       "3    2019-03-22  \\n                                            ...   \n",
       "4    2021-07-18  \\n                                            ...   \n",
       "5    2019-09-18  \\n                                            ...   \n",
       "6    2020-12-07  \\n                                            ...   \n",
       "7    2020-06-14  \\n                                            ...   \n",
       "8    2020-01-07  \\n                                            ...   \n",
       "9    2020-09-03  \\n                                            ...   \n",
       "\n",
       "                                             Empresa Departamentos  \n",
       "0                                            Shopify     Operações  \n",
       "1                                                RBC     Operações  \n",
       "2                                         Scotiabank     Operações  \n",
       "3                                               Bell    Tecnologia  \n",
       "4                                                 TD           Adm  \n",
       "5                                   Loblaw Companies     Operações  \n",
       "6                                         Scotiabank     Operações  \n",
       "7                                                RBC           Adm  \n",
       "8  Banque Nationale du Canada/National Bank of Ca...    Tecnologia  \n",
       "9                                                RBC           Adm  "
      ]
     },
     "execution_count": 357,
     "metadata": {},
     "output_type": "execute_result"
    }
   ],
   "source": [
    "pd.DataFrame( Dados_Loop )"
   ]
  },
  {
   "cell_type": "code",
   "execution_count": null,
   "id": "4a4fb87c-134e-4d08-b0c7-280e6e920981",
   "metadata": {},
   "outputs": [],
   "source": []
  }
 ],
 "metadata": {
  "kernelspec": {
   "display_name": "Python 3 (ipykernel)",
   "language": "python",
   "name": "python3"
  },
  "language_info": {
   "codemirror_mode": {
    "name": "ipython",
    "version": 3
   },
   "file_extension": ".py",
   "mimetype": "text/x-python",
   "name": "python",
   "nbconvert_exporter": "python",
   "pygments_lexer": "ipython3",
   "version": "3.11.7"
  }
 },
 "nbformat": 4,
 "nbformat_minor": 5
}
