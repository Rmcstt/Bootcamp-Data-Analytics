{
 "cells": [
  {
   "cell_type": "code",
   "execution_count": 21,
   "id": "25a04eec-6a89-4f49-b6c9-7ecf0ef0e4a0",
   "metadata": {},
   "outputs": [
    {
     "name": "stdout",
     "output_type": "stream",
     "text": [
      "voce nao tem idade minima\n"
     ]
    }
   ],
   "source": [
    "# condição if\n",
    "# se --> hipotese\n",
    "\n",
    "idade = int(14)\n",
    "if idade >= 18:\n",
    "    print('voce é maior de idade')\n",
    "elif idade >= 15:\n",
    "    print('adolecente ainda')\n",
    "elif idade >+ 12:\n",
    "    print('voce nao tem idade minima')\n",
    "else:\n",
    "    print('voce nao é maior de idade')"
   ]
  },
  {
   "cell_type": "code",
   "execution_count": 31,
   "id": "b1e4ec6d-d357-4d9f-806c-f7436abba50a",
   "metadata": {},
   "outputs": [
    {
     "name": "stdin",
     "output_type": "stream",
     "text": [
      "qual é o seu salario ? 30000\n"
     ]
    },
    {
     "name": "stdout",
     "output_type": "stream",
     "text": [
      " seu salario tera um imposto cobrado de R$ 4200.0\n"
     ]
    }
   ],
   "source": [
    "salario = int(input('qual é o seu salario ?'))\n",
    "\n",
    "if salario >= 3700:\n",
    "    imposto = salario * 0.14\n",
    "elif salario >= 2500:\n",
    "    imposto = salario * 0.11\n",
    "elif salario >= 1800:\n",
    "    imposto = salario * 0.08\n",
    "else:\n",
    "    imposto = 0\n",
    "\n",
    "print(f' seu salario tera um imposto cobrado de R$ {round(imposto, 2)}')\n"
   ]
  },
  {
   "cell_type": "code",
   "execution_count": 66,
   "id": "8bb4b92a-0725-4a8b-803a-4c026fd868fd",
   "metadata": {},
   "outputs": [
    {
     "name": "stdout",
     "output_type": "stream",
     "text": [
      "0\n",
      "1\n",
      "2\n",
      "3\n",
      "4\n",
      "5\n",
      "6\n",
      "7\n",
      "8\n",
      "9\n"
     ]
    }
   ],
   "source": [
    "# for \n",
    "for variavel in range(10):\n",
    "    print(variavel)"
   ]
  },
  {
   "cell_type": "code",
   "execution_count": 94,
   "id": "cb98078a-23d5-4053-8e72-e5c3e1524f50",
   "metadata": {},
   "outputs": [
    {
     "name": "stdout",
     "output_type": "stream",
     "text": [
      "1\n",
      "243\n",
      "3125\n",
      "16807\n",
      "59049\n",
      "161051\n",
      "371293\n",
      "759375\n",
      "1419857\n",
      "2476099\n",
      "4084101\n",
      "6436343\n",
      "9765625\n",
      "14348907\n",
      "20511149\n"
     ]
    }
   ],
   "source": [
    "for x in range(30):\n",
    "\n",
    "    if x  % 2:\n",
    "        print( x **5)"
   ]
  },
  {
   "cell_type": "code",
   "execution_count": 104,
   "id": "607c860e-2e91-4c41-a24c-33be89bcebdb",
   "metadata": {},
   "outputs": [
    {
     "name": "stdout",
     "output_type": "stream",
     "text": [
      "voce que recebe 22000 vai pagar 3080.0 de imposto\n",
      "voce que recebe 1800 vai pagar 144.0 de imposto\n",
      "voce que recebe 1500 vai pagar 0 de imposto\n",
      "voce que recebe 2000 vai pagar 160.0 de imposto\n"
     ]
    }
   ],
   "source": [
    "lista = [22000, 1800, 1500, 2000]\n",
    "\n",
    "for x in lista:\n",
    "    if x >= 3700:\n",
    "        if x >= 3700 or x <= 5000:\n",
    "            imposto = x * 0.14\n",
    "        else:\n",
    "            imposto = x * 0.14 + 100\n",
    "    elif x >= 2500:\n",
    "        imposto = x * 0.11\n",
    "    elif x >= 1800:\n",
    "        imposto = x * 0.08\n",
    "    else:\n",
    "        imposto = 0\n",
    "\n",
    "    print(f'voce que recebe {x} vai pagar { round(imposto,2) } de imposto')"
   ]
  },
  {
   "cell_type": "code",
   "execution_count": 110,
   "id": "c2088e28-7bc2-4223-b885-b8aa21ecff64",
   "metadata": {},
   "outputs": [
    {
     "name": "stdout",
     "output_type": "stream",
     "text": [
      "0 22000\n",
      "1 1800\n",
      "2 1500\n",
      "3 2000\n"
     ]
    }
   ],
   "source": [
    "lista = [22000, 1800, 1500, 2000]\n",
    "y=0\n",
    "for x in lista:\n",
    "    print( y,x)\n",
    "    y=y+1"
   ]
  },
  {
   "cell_type": "code",
   "execution_count": 122,
   "id": "c54cdecd-100d-46db-829f-7874f15e1f5a",
   "metadata": {},
   "outputs": [
    {
     "name": "stdout",
     "output_type": "stream",
     "text": [
      "0 22000\n",
      "1 1800\n",
      "2 1500\n",
      "3 2000\n"
     ]
    }
   ],
   "source": [
    "lista = [22000, 1800, 1500, 2000]\n",
    "\n",
    "for y,x in enumerate(lista):\n",
    "    print(y, x)"
   ]
  },
  {
   "cell_type": "code",
   "execution_count": 134,
   "id": "00740dd0-7fc2-43db-9667-64aae45c3652",
   "metadata": {},
   "outputs": [
    {
     "name": "stdout",
     "output_type": "stream",
     "text": [
      "4 1500\n",
      "3 1800\n",
      "2 2000\n",
      "1 22000\n"
     ]
    }
   ],
   "source": [
    "lista = [22000, 1800, 1500, 2000]\n",
    "lista.sort()\n",
    "y= len(lista)\n",
    "for x in lista:\n",
    "    print( y,x)\n",
    "    y=y-1"
   ]
  },
  {
   "cell_type": "code",
   "execution_count": 152,
   "id": "1a803e7f-bfae-4170-b662-81a3795b95ed",
   "metadata": {},
   "outputs": [
    {
     "name": "stdout",
     "output_type": "stream",
     "text": [
      "3 2000\n",
      "2 1500\n",
      "1 1800\n",
      "0 22000\n"
     ]
    }
   ],
   "source": [
    "lista = [22000, 1800, 1500, 2000]\n",
    "\n",
    "y = len(lista) -1\n",
    "\n",
    "for x in lista:\n",
    "    print(y,lista[y])\n",
    "    y=y-1\n",
    "          "
   ]
  },
  {
   "cell_type": "code",
   "execution_count": 1,
   "id": "1a1375ad-91b2-4165-9604-71ed16b8c8f1",
   "metadata": {},
   "outputs": [
    {
     "name": "stdout",
     "output_type": "stream",
     "text": [
      "funciona, confia!\n"
     ]
    }
   ],
   "source": [
    "try:\n",
    "    x = 0/0\n",
    "    print(x)\n",
    "except:\n",
    "    print('funciona, confia!')"
   ]
  },
  {
   "cell_type": "code",
   "execution_count": 39,
   "id": "b26e5f89-2a93-47f3-9527-23bafba16b35",
   "metadata": {},
   "outputs": [
    {
     "name": "stdout",
     "output_type": "stream",
     "text": [
      "jan 1\n",
      "jan 2\n",
      "jan 3\n",
      "jan 4\n",
      "jan 5\n",
      "jan 6\n",
      "jan 7\n",
      "jan 8\n",
      "jan 9\n",
      "jan 10\n",
      "jan 11\n",
      "jan 12\n",
      "jan 13\n",
      "jan 14\n",
      "jan 15\n",
      "jan 16\n",
      "jan 17\n",
      "jan 18\n",
      "jan 19\n",
      "jan 20\n",
      "jan 21\n",
      "jan 22\n",
      "jan 23\n",
      "jan 24\n",
      "jan 25\n",
      "jan 26\n",
      "jan 27\n",
      "jan 28\n",
      "jan 29\n",
      "jan 30\n",
      "jan 31\n",
      "fev 1\n",
      "fev 2\n",
      "fev 3\n",
      "fev 4\n",
      "fev 5\n",
      "fev 6\n",
      "fev 7\n",
      "fev 8\n",
      "fev 9\n",
      "fev 10\n",
      "fev 11\n",
      "fev 12\n",
      "fev 13\n",
      "fev 14\n",
      "fev 15\n",
      "fev 16\n",
      "fev 17\n",
      "fev 18\n",
      "fev 19\n",
      "fev 20\n",
      "fev 21\n",
      "fev 22\n",
      "fev 23\n",
      "fev 24\n",
      "fev 25\n",
      "fev 26\n",
      "fev 27\n",
      "fev 28\n",
      "mar 1\n",
      "mar 2\n",
      "mar 3\n",
      "mar 4\n",
      "mar 5\n",
      "mar 6\n",
      "mar 7\n",
      "mar 8\n",
      "mar 9\n",
      "mar 10\n",
      "mar 11\n",
      "mar 12\n",
      "mar 13\n",
      "mar 14\n",
      "mar 15\n",
      "mar 16\n",
      "mar 17\n",
      "mar 18\n",
      "mar 19\n",
      "mar 20\n",
      "mar 21\n",
      "mar 22\n",
      "mar 23\n",
      "mar 24\n",
      "mar 25\n",
      "mar 26\n",
      "mar 27\n",
      "mar 28\n",
      "mar 29\n",
      "mar 30\n",
      "mar 31\n",
      "abr 1\n",
      "abr 2\n",
      "abr 3\n",
      "abr 4\n",
      "abr 5\n",
      "abr 6\n",
      "abr 7\n",
      "abr 8\n",
      "abr 9\n",
      "abr 10\n",
      "abr 11\n",
      "abr 12\n",
      "abr 13\n",
      "abr 14\n",
      "abr 15\n",
      "abr 16\n",
      "abr 17\n",
      "abr 18\n",
      "abr 19\n",
      "abr 20\n",
      "abr 21\n",
      "abr 22\n",
      "abr 23\n",
      "abr 24\n",
      "abr 25\n",
      "abr 26\n",
      "abr 27\n",
      "abr 28\n",
      "abr 29\n",
      "abr 30\n",
      "mai 1\n",
      "mai 2\n",
      "mai 3\n",
      "mai 4\n",
      "mai 5\n",
      "mai 6\n",
      "mai 7\n",
      "mai 8\n",
      "mai 9\n",
      "mai 10\n",
      "mai 11\n",
      "mai 12\n",
      "mai 13\n",
      "mai 14\n",
      "mai 15\n",
      "mai 16\n",
      "mai 17\n",
      "mai 18\n",
      "mai 19\n",
      "mai 20\n",
      "mai 21\n",
      "mai 22\n",
      "mai 23\n",
      "mai 24\n",
      "mai 25\n",
      "mai 26\n",
      "mai 27\n",
      "mai 28\n",
      "mai 29\n",
      "mai 30\n",
      "mai 31\n",
      "jun 1\n",
      "jun 2\n",
      "jun 3\n",
      "jun 4\n",
      "jun 5\n",
      "jun 6\n",
      "jun 7\n",
      "jun 8\n",
      "jun 9\n",
      "jun 10\n",
      "jun 11\n",
      "jun 12\n",
      "jun 13\n",
      "jun 14\n",
      "jun 15\n",
      "jun 16\n",
      "jun 17\n",
      "jun 18\n",
      "jun 19\n",
      "jun 20\n",
      "jun 21\n",
      "jun 22\n",
      "jun 23\n",
      "jun 24\n",
      "jun 25\n",
      "jun 26\n",
      "jun 27\n",
      "jun 28\n",
      "jun 29\n",
      "jun 30\n",
      "jul 1\n",
      "jul 2\n",
      "jul 3\n",
      "jul 4\n",
      "jul 5\n",
      "jul 6\n",
      "jul 7\n",
      "jul 8\n",
      "jul 9\n",
      "jul 10\n",
      "jul 11\n",
      "jul 12\n",
      "jul 13\n",
      "jul 14\n",
      "jul 15\n",
      "jul 16\n",
      "jul 17\n",
      "jul 18\n",
      "jul 19\n",
      "jul 20\n",
      "jul 21\n",
      "jul 22\n",
      "jul 23\n",
      "jul 24\n",
      "jul 25\n",
      "jul 26\n",
      "jul 27\n",
      "jul 28\n",
      "jul 29\n",
      "jul 30\n",
      "jul 31\n",
      "ago 1\n",
      "ago 2\n",
      "ago 3\n",
      "ago 4\n",
      "ago 5\n",
      "ago 6\n",
      "ago 7\n",
      "ago 8\n",
      "ago 9\n",
      "ago 10\n",
      "ago 11\n",
      "ago 12\n",
      "ago 13\n",
      "ago 14\n",
      "ago 15\n",
      "ago 16\n",
      "ago 17\n",
      "ago 18\n",
      "ago 19\n",
      "ago 20\n",
      "ago 21\n",
      "ago 22\n",
      "ago 23\n",
      "ago 24\n",
      "ago 25\n",
      "ago 26\n",
      "ago 27\n",
      "ago 28\n",
      "ago 29\n",
      "ago 30\n",
      "ago 31\n",
      "set 1\n",
      "set 2\n",
      "set 3\n",
      "set 4\n",
      "set 5\n",
      "set 6\n",
      "set 7\n",
      "set 8\n",
      "set 9\n",
      "set 10\n",
      "set 11\n",
      "set 12\n",
      "set 13\n",
      "set 14\n",
      "set 15\n",
      "set 16\n",
      "set 17\n",
      "set 18\n",
      "set 19\n",
      "set 20\n",
      "set 21\n",
      "set 22\n",
      "set 23\n",
      "set 24\n",
      "set 25\n",
      "set 26\n",
      "set 27\n",
      "set 28\n",
      "set 29\n",
      "set 30\n",
      "out 1\n",
      "out 2\n",
      "out 3\n",
      "out 4\n",
      "out 5\n",
      "out 6\n",
      "out 7\n",
      "out 8\n",
      "out 9\n",
      "out 10\n",
      "out 11\n",
      "out 12\n",
      "out 13\n",
      "out 14\n",
      "out 15\n",
      "out 16\n",
      "out 17\n",
      "out 18\n",
      "out 19\n",
      "out 20\n",
      "out 21\n",
      "out 22\n",
      "out 23\n",
      "out 24\n",
      "out 25\n",
      "out 26\n",
      "out 27\n",
      "out 28\n",
      "out 29\n",
      "out 30\n",
      "out 31\n",
      "nov 1\n",
      "nov 2\n",
      "nov 3\n",
      "nov 4\n",
      "nov 5\n",
      "nov 6\n",
      "nov 7\n",
      "nov 8\n",
      "nov 9\n",
      "nov 10\n",
      "nov 11\n",
      "nov 12\n",
      "nov 13\n",
      "nov 14\n",
      "nov 15\n",
      "nov 16\n",
      "nov 17\n",
      "nov 18\n",
      "nov 19\n",
      "nov 20\n",
      "nov 21\n",
      "nov 22\n",
      "nov 23\n",
      "nov 24\n",
      "nov 25\n",
      "nov 26\n",
      "nov 27\n",
      "nov 28\n",
      "nov 29\n",
      "nov 30\n",
      "dez 1\n",
      "dez 2\n",
      "dez 3\n",
      "dez 4\n",
      "dez 5\n",
      "dez 6\n",
      "dez 7\n",
      "dez 8\n",
      "dez 9\n",
      "dez 10\n",
      "dez 11\n",
      "dez 12\n",
      "dez 13\n",
      "dez 14\n",
      "dez 15\n",
      "dez 16\n",
      "dez 17\n",
      "dez 18\n",
      "dez 19\n",
      "dez 20\n",
      "dez 21\n",
      "dez 22\n",
      "dez 23\n",
      "dez 24\n",
      "dez 25\n",
      "dez 26\n",
      "dez 27\n",
      "dez 28\n",
      "dez 29\n",
      "dez 30\n",
      "dez 31\n"
     ]
    }
   ],
   "source": [
    "meses = ['jan', 'fev', 'mar', 'abr', 'mai', 'jun',\n",
    "         'jul', 'ago', 'set', 'out', 'nov', 'dez']\n",
    "mesdiaE = ['fev 29','fev 30', 'fev 31',\n",
    "           'abr 31', 'jun 31', 'set 31', 'nov 31']\n",
    "mesdia = []\n",
    "\n",
    "for mes in meses:\n",
    "    for dia in range(1, 32):\n",
    "        mesdia.append(f\"{mes} {dia}\")\n",
    "\n",
    "mesdia_corrigida = [dia for dia in mesdia if dia not in mesdiaE]\n",
    "\n",
    "for x in mesdia_corrigida:\n",
    "    print(x)\n"
   ]
  },
  {
   "cell_type": "code",
   "execution_count": 3,
   "id": "a33f06ca-21a0-4e91-bb7c-bafefb92d6a5",
   "metadata": {},
   "outputs": [
    {
     "name": "stdout",
     "output_type": "stream",
     "text": [
      "1\n",
      "2\n",
      "3\n",
      "4\n",
      "5\n",
      "6\n",
      "7\n",
      "8\n",
      "9\n",
      "10\n",
      "11\n"
     ]
    }
   ],
   "source": [
    "x = 0\n",
    "while x <=10:\n",
    "    x+=1\n",
    "    print(x)"
   ]
  },
  {
   "cell_type": "code",
   "execution_count": 5,
   "id": "564b5cb5-f26f-46f3-b88b-552d97c61600",
   "metadata": {},
   "outputs": [],
   "source": [
    "import random"
   ]
  },
  {
   "cell_type": "code",
   "execution_count": 7,
   "id": "5580fce5-2632-402c-985f-0aad36112902",
   "metadata": {},
   "outputs": [
    {
     "data": {
      "text/plain": [
       "8"
      ]
     },
     "execution_count": 7,
     "metadata": {},
     "output_type": "execute_result"
    }
   ],
   "source": [
    "random.randint(1,10)"
   ]
  },
  {
   "cell_type": "code",
   "execution_count": 15,
   "id": "7696549d-6a73-431b-bcad-14f3f915d974",
   "metadata": {},
   "outputs": [
    {
     "name": "stdout",
     "output_type": "stream",
     "text": [
      "0 x 3\n"
     ]
    }
   ],
   "source": [
    "#jogo\n",
    "Peu = 0\n",
    "Pvoces = 0\n",
    "\n",
    "while True:\n",
    "    eu = random.randint(1,10)\n",
    "    voces = random.randint(1,10)\n",
    "\n",
    "    if eu> voces:\n",
    "        Peu += 1\n",
    "\n",
    "    else:\n",
    "        Pvoces +=1\n",
    "\n",
    "    if Peu == 3 or Pvoces ==3:\n",
    "        break\n",
    "\n",
    "print(Peu, 'x', Pvoces)"
   ]
  },
  {
   "cell_type": "code",
   "execution_count": 21,
   "id": "d5ef4f2a-18dd-4126-ac45-d34731f2295a",
   "metadata": {},
   "outputs": [],
   "source": [
    "def qq():\n",
    "    print('seja bem vindo')"
   ]
  },
  {
   "cell_type": "code",
   "execution_count": 23,
   "id": "fe1f5ef1-92a7-4948-8d12-d9da0475f17a",
   "metadata": {},
   "outputs": [
    {
     "name": "stdout",
     "output_type": "stream",
     "text": [
      "seja bem vindo\n"
     ]
    }
   ],
   "source": [
    "qq()"
   ]
  },
  {
   "cell_type": "code",
   "execution_count": 25,
   "id": "f8d2f6e4-500f-4a14-bd3e-52f98e8e7469",
   "metadata": {},
   "outputs": [],
   "source": [
    "def soma(v1,v2):\n",
    "    soma = v1 + v2\n",
    "    return soma\n",
    "\n"
   ]
  },
  {
   "cell_type": "code",
   "execution_count": 27,
   "id": "daae7ff5-406c-4544-9159-0a1c14e106e6",
   "metadata": {},
   "outputs": [
    {
     "data": {
      "text/plain": [
       "60"
      ]
     },
     "execution_count": 27,
     "metadata": {},
     "output_type": "execute_result"
    }
   ],
   "source": [
    "soma(30,30)"
   ]
  },
  {
   "cell_type": "code",
   "execution_count": null,
   "id": "f86d8569-b725-4416-820c-0c94ad7e40f0",
   "metadata": {},
   "outputs": [],
   "source": []
  }
 ],
 "metadata": {
  "kernelspec": {
   "display_name": "Python 3 (ipykernel)",
   "language": "python",
   "name": "python3"
  },
  "language_info": {
   "codemirror_mode": {
    "name": "ipython",
    "version": 3
   },
   "file_extension": ".py",
   "mimetype": "text/x-python",
   "name": "python",
   "nbconvert_exporter": "python",
   "pygments_lexer": "ipython3",
   "version": "3.11.7"
  }
 },
 "nbformat": 4,
 "nbformat_minor": 5
}
