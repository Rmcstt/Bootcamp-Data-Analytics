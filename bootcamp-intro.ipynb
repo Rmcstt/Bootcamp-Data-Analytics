{
 "cells": [
  {
   "cell_type": "code",
   "execution_count": 4,
   "id": "245853b5-ca11-4cfb-be66-3e3038f05318",
   "metadata": {},
   "outputs": [
    {
     "name": "stdout",
     "output_type": "stream",
     "text": [
      "Hello World\n",
      "Hello World\n"
     ]
    }
   ],
   "source": [
    "print('Hello World')\n",
    "print(\"Hello World\")"
   ]
  },
  {
   "cell_type": "code",
   "execution_count": 6,
   "id": "2b66fafc-44c0-4892-932d-79f20d87d5a3",
   "metadata": {},
   "outputs": [
    {
     "name": "stdout",
     "output_type": "stream",
     "text": [
      "9\n"
     ]
    }
   ],
   "source": [
    "print(3**2)"
   ]
  },
  {
   "cell_type": "code",
   "execution_count": 8,
   "id": "b3a4fac5-8367-436f-8a59-a7ee3fee0feb",
   "metadata": {},
   "outputs": [],
   "source": [
    "#comentarios"
   ]
  },
  {
   "cell_type": "code",
   "execution_count": 16,
   "id": "92439e09-8fc9-4482-9630-9c04540a2805",
   "metadata": {},
   "outputs": [
    {
     "name": "stdout",
     "output_type": "stream",
     "text": [
      "renato Brazil 10 22 220\n"
     ]
    }
   ],
   "source": [
    "nome = 'renato'\n",
    "endereco = 'Brazil'\n",
    "valor = 10\n",
    "equacao = 2 + 4 * 5\n",
    "resultado  = valor * equacao\n",
    "print(nome, endereco, valor, equacao, resultado)"
   ]
  },
  {
   "cell_type": "code",
   "execution_count": 28,
   "id": "3a4ad87f-9b7d-473a-8fe2-730a45a1a7a1",
   "metadata": {},
   "outputs": [
    {
     "name": "stdout",
     "output_type": "stream",
     "text": [
      "8\n",
      "80\n",
      "40\n"
     ]
    }
   ],
   "source": [
    "minha_var  = 8\n",
    "print(minha_var)\n",
    "minha_var =80\n",
    "print(minha_var)\n",
    "pinha_var = print(40)"
   ]
  },
  {
   "cell_type": "code",
   "execution_count": 24,
   "id": "af663553-6b8b-4c1d-989c-939c4da61829",
   "metadata": {},
   "outputs": [
    {
     "name": "stdout",
     "output_type": "stream",
     "text": [
      "lá\n"
     ]
    }
   ],
   "source": [
    "def vai():\n",
    "    print('lá')\n",
    "vai()"
   ]
  },
  {
   "cell_type": "code",
   "execution_count": 30,
   "id": "faebee4e-c839-4ac1-841a-b72846fe200c",
   "metadata": {},
   "outputs": [
    {
     "name": "stdout",
     "output_type": "stream",
     "text": [
      "-5\n"
     ]
    }
   ],
   "source": [
    "a = 1\n",
    "b = 2\n",
    "c = 3 \n",
    "d = a - b * c\n",
    "\n",
    "print(d)"
   ]
  },
  {
   "cell_type": "code",
   "execution_count": 124,
   "id": "91a9d420-22d0-45b8-b082-127b5222a3da",
   "metadata": {},
   "outputs": [
    {
     "name": "stdout",
     "output_type": "stream",
     "text": [
      "1000000000.0\n"
     ]
    }
   ],
   "source": [
    "# numero de segundos em 1 ano\n",
    "\n",
    "ano = 31.68808781402895\n",
    "dias = 365.25\n",
    "horas = 24\n",
    "min = 60 \n",
    "sec = 60\n",
    "\n",
    "print(sec * min * horas * dias * ano)"
   ]
  },
  {
   "cell_type": "markdown",
   "id": "f962f612-bed2-4f2e-9ddb-82e7ad78ade3",
   "metadata": {},
   "source": [
    "#  exerciciios "
   ]
  },
  {
   "cell_type": "markdown",
   "id": "8dbed0a3-b854-47ab-a94f-435b596c3dc5",
   "metadata": {},
   "source": [
    "Escreva um programa que mostre a mensagem 'Seu Nome' na tela"
   ]
  },
  {
   "cell_type": "code",
   "execution_count": 130,
   "id": "d0b49444-7bb2-4f89-a021-8422331de027",
   "metadata": {},
   "outputs": [
    {
     "name": "stdout",
     "output_type": "stream",
     "text": [
      "Renato Mota\n"
     ]
    }
   ],
   "source": [
    "print(\"Renato Mota\")"
   ]
  },
  {
   "cell_type": "markdown",
   "id": "059712bf-74f0-4d66-baf1-1aee5b917941",
   "metadata": {},
   "source": [
    "Escreva um programa que calcula a taxa de juros simples Fórmula [ Juros = ( capital inicial * Taxa de Juros * Tempo ) ]. Uma pessoa aplicou o capital de R $1.200,00 a uma taxa de 2% ao mês durante 14 meses. Determine os juros e o montante dessa aplicação."
   ]
  },
  {
   "cell_type": "code",
   "execution_count": 133,
   "id": "aba66dd8-c657-4434-b0d2-55ea3c20cb8f",
   "metadata": {},
   "outputs": [
    {
     "name": "stdout",
     "output_type": "stream",
     "text": [
      "Juros será de:  336.0\n"
     ]
    }
   ],
   "source": [
    "Capital_Inicial = 1200\n",
    "Taxa_Juros = 0.02\n",
    "Tempo = 14\n",
    "\n",
    "Juros = ( Capital_Inicial * Taxa_Juros * Tempo )\n",
    "print('Juros será de: ', Juros)"
   ]
  },
  {
   "cell_type": "markdown",
   "id": "7d15535c-c260-4efc-adf9-7c388545febe",
   "metadata": {},
   "source": [
    "Escreva um programa que calcule a média a de vendas [ Jan: 1200, Fev: 2000, Mar: 4000 ]"
   ]
  },
  {
   "cell_type": "code",
   "execution_count": 138,
   "id": "91d60930-9770-417f-a08e-0699270c2da3",
   "metadata": {},
   "outputs": [
    {
     "name": "stdout",
     "output_type": "stream",
     "text": [
      "A media é  2400.0\n"
     ]
    }
   ],
   "source": [
    "jan = 1200\n",
    "fev = 2000\n",
    "mar = 4000\n",
    "\n",
    "media = (jan + fev + mar) /3\n",
    "print('A media é ',media)"
   ]
  },
  {
   "cell_type": "markdown",
   "id": "5a5596d7-7c0e-46b5-a9f0-31deb1549b33",
   "metadata": {},
   "source": [
    "Escreva um programa que calcule a comissão, comissão é de 2% sobre qualquer venda"
   ]
  },
  {
   "cell_type": "code",
   "execution_count": 144,
   "id": "803d39ad-cee6-49d6-996d-4d56e7b559ca",
   "metadata": {},
   "outputs": [
    {
     "name": "stdout",
     "output_type": "stream",
     "text": [
      "A comissao sera de  900.0\n",
      "A comissao sera de  900.0\n",
      "A comissao sera de  900.0\n"
     ]
    }
   ],
   "source": [
    "venda = 45000\n",
    "comissao = 0.02\n",
    "resultado = venda * comissao\n",
    "\n",
    "print('A comissao sera de ', resultado)\n",
    "print('A comissao sera de ', venda * comissao)\n",
    "print('A comissao sera de ', 45000 * 0.02)"
   ]
  },
  {
   "cell_type": "markdown",
   "id": "267a97e8-9772-4145-8b2c-31c6995d37a3",
   "metadata": {},
   "source": [
    "Escreva um programa na qual faça a soma de 3 variáveis com os seguintes valores: [a=100, b=200, c=456] mostre a soma final."
   ]
  },
  {
   "cell_type": "code",
   "execution_count": 150,
   "id": "450ffa94-243c-49be-beb0-8ce54a69f5ae",
   "metadata": {},
   "outputs": [
    {
     "name": "stdout",
     "output_type": "stream",
     "text": [
      "756\n"
     ]
    }
   ],
   "source": [
    "var1 = 100\n",
    "var2 = 200\n",
    "var3 = 456\n",
    "\n",
    "print(var1+var2+var3)"
   ]
  },
  {
   "cell_type": "markdown",
   "id": "e27077c0-f31d-4ffb-82e5-9682472223ab",
   "metadata": {},
   "source": [
    "Escreva um programa que calcula o metragem quadrada de um cômodo, medidas [Largura= 50 metros, comprimento= 120 metros] fórmula = L*C"
   ]
  },
  {
   "cell_type": "code",
   "execution_count": 156,
   "id": "f87e64c3-215f-4faf-9d6f-9986f7492a4f",
   "metadata": {},
   "outputs": [
    {
     "name": "stdout",
     "output_type": "stream",
     "text": [
      "temos 6000 metros quadrados\n",
      "temos 6000 ²\n"
     ]
    }
   ],
   "source": [
    "largura = 50\n",
    "comprimento = 120\n",
    "formula = largura * comprimento\n",
    "print('temos', formula, 'metros quadrados')\n",
    "print('temos', formula,\"²\")"
   ]
  },
  {
   "cell_type": "markdown",
   "id": "50c0adc8-78d4-406e-aaf9-d62e6379195f",
   "metadata": {},
   "source": [
    "Escreva um programa que calcula o metro cúbico de uma caixa, medidas [Altura=2 metros, Comprimento=5 metros, Largura=3 metros] formulá: ACL"
   ]
  },
  {
   "cell_type": "code",
   "execution_count": 159,
   "id": "9269c1b0-ded6-4c12-b64e-9ef0f5a509f1",
   "metadata": {},
   "outputs": [
    {
     "name": "stdout",
     "output_type": "stream",
     "text": [
      "temos 30 cubicos\n"
     ]
    }
   ],
   "source": [
    "largura = 3\n",
    "altura = 2\n",
    "comprimento = 5\n",
    "\n",
    "metro = ( largura * altura * comprimento )\n",
    "print('temos', metro, 'cubicos')"
   ]
  },
  {
   "cell_type": "markdown",
   "id": "51e23290-335e-46f0-b6b9-8f3e833326f4",
   "metadata": {},
   "source": [
    "Escreva um programa que receba o salário da pessoa o desconto do vale transporte ( taxa de desconto 4% )"
   ]
  },
  {
   "cell_type": "code",
   "execution_count": 164,
   "id": "0b53ea7c-009f-4ccc-8fd3-1183d02d2e75",
   "metadata": {},
   "outputs": [
    {
     "name": "stdout",
     "output_type": "stream",
     "text": [
      " o salario do renato no original é : 21120.0\n",
      "desconto foi de : 880.0\n"
     ]
    }
   ],
   "source": [
    "salario = 22000\n",
    "taxa_desconto = 0.04\n",
    "liquido = salario - (salario * taxa_desconto)\n",
    "print(' o salario do renato no original é :' ,liquido)\n",
    "print('desconto foi de :', salario * taxa_desconto)"
   ]
  },
  {
   "cell_type": "markdown",
   "id": "1e0bab6d-097d-40e2-8727-7cd88fa8cdcf",
   "metadata": {},
   "source": [
    "Escreva um programa que calcule o IMC da pessoa fórmula: [Peso / Altura * Altura]"
   ]
  },
  {
   "cell_type": "code",
   "execution_count": 167,
   "id": "a4fa6586-54da-4eb2-8732-5996ebb2e992",
   "metadata": {},
   "outputs": [
    {
     "name": "stdout",
     "output_type": "stream",
     "text": [
      "o IMC dessa pessoa é 0.2502976099630658\n"
     ]
    }
   ],
   "source": [
    "peso = 82\n",
    "altura = 181\n",
    "\n",
    "IMC = peso / (altura * altura)\n",
    "print('o IMC dessa pessoa é', IMC * 100)"
   ]
  },
  {
   "cell_type": "markdown",
   "id": "433f52cb-e371-4bec-ac1a-0e879fa55a60",
   "metadata": {},
   "source": [
    "Escreva um programa que calcule a quantidade de calorias de 1 (uma) xícara de café, 1 xícara possui 51 calorias."
   ]
  },
  {
   "cell_type": "code",
   "execution_count": 176,
   "id": "a72c1454-2e09-47b5-af73-9b2a7fec2d4e",
   "metadata": {},
   "outputs": [
    {
     "name": "stdout",
     "output_type": "stream",
     "text": [
      " voce ingeriu 6120 calorias\n"
     ]
    }
   ],
   "source": [
    "xicara = 120\n",
    "calorias = 51\n",
    "total = xicara * calorias\n",
    "\n",
    "print(' voce ingeriu', total, 'calorias')"
   ]
  },
  {
   "cell_type": "code",
   "execution_count": null,
   "id": "90086456-9b24-452a-bbf2-2e3265b7995c",
   "metadata": {},
   "outputs": [],
   "source": []
  }
 ],
 "metadata": {
  "kernelspec": {
   "display_name": "Python 3 (ipykernel)",
   "language": "python",
   "name": "python3"
  },
  "language_info": {
   "codemirror_mode": {
    "name": "ipython",
    "version": 3
   },
   "file_extension": ".py",
   "mimetype": "text/x-python",
   "name": "python",
   "nbconvert_exporter": "python",
   "pygments_lexer": "ipython3",
   "version": "3.11.7"
  }
 },
 "nbformat": 4,
 "nbformat_minor": 5
}
