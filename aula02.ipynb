{
 "cells": [
  {
   "cell_type": "code",
   "execution_count": 118,
   "id": "814494b0-dc0e-410e-93b7-97a5b32e6e75",
   "metadata": {},
   "outputs": [],
   "source": [
    "#buscar dados na web\n",
    "import requests\n",
    "\n",
    "# modelagem\n",
    "import pandas as pd\n",
    "\n",
    "# data visualization\n",
    "import matplotlib.pyplot as plt\n",
    "import json"
   ]
  },
  {
   "cell_type": "code",
   "execution_count": 120,
   "id": "3e0efe17-4f10-4071-b544-d7adaa72e338",
   "metadata": {},
   "outputs": [
    {
     "data": {
      "text/html": [
       "<div>\n",
       "<style scoped>\n",
       "    .dataframe tbody tr th:only-of-type {\n",
       "        vertical-align: middle;\n",
       "    }\n",
       "\n",
       "    .dataframe tbody tr th {\n",
       "        vertical-align: top;\n",
       "    }\n",
       "\n",
       "    .dataframe thead th {\n",
       "        text-align: right;\n",
       "    }\n",
       "</style>\n",
       "<table border=\"1\" class=\"dataframe\">\n",
       "  <thead>\n",
       "    <tr style=\"text-align: right;\">\n",
       "      <th></th>\n",
       "      <th>IdDeputado</th>\n",
       "      <th>IdSPL</th>\n",
       "      <th>IdUA</th>\n",
       "      <th>Situacao</th>\n",
       "      <th>Andar</th>\n",
       "      <th>Aniversario</th>\n",
       "      <th>txtAreaAtuacao</th>\n",
       "      <th>txtBaseEleitoral</th>\n",
       "      <th>Biografia</th>\n",
       "      <th>Email</th>\n",
       "      <th>Matricula</th>\n",
       "      <th>NomeParlamentar</th>\n",
       "      <th>PlacaVeiculo</th>\n",
       "      <th>Sala</th>\n",
       "      <th>Partido</th>\n",
       "      <th>Telefone</th>\n",
       "      <th>HomePage</th>\n",
       "    </tr>\n",
       "  </thead>\n",
       "  <tbody>\n",
       "    <tr>\n",
       "      <th>0</th>\n",
       "      <td>1139</td>\n",
       "      <td>1000000335</td>\n",
       "      <td>20455</td>\n",
       "      <td>EXE</td>\n",
       "      <td>2º andar</td>\n",
       "      <td>26/08</td>\n",
       "      <td>Fiscalização e Controle das Contas Públicas;\\n...</td>\n",
       "      <td>Todo o Estado de São Paulo</td>\n",
       "      <td>&lt;p&gt;Danilo Mascarenhas de Balas, 47 anos, nasce...</td>\n",
       "      <td>apfdanilobalas@al.sp.gov.br</td>\n",
       "      <td>300607</td>\n",
       "      <td>Agente Federal Danilo Balas</td>\n",
       "      <td>AL146</td>\n",
       "      <td>255</td>\n",
       "      <td>PL</td>\n",
       "      <td>3886-6054/6052</td>\n",
       "      <td>None</td>\n",
       "    </tr>\n",
       "    <tr>\n",
       "      <th>1</th>\n",
       "      <td>1140</td>\n",
       "      <td>1000000342</td>\n",
       "      <td>20399</td>\n",
       "      <td>EXE</td>\n",
       "      <td>1º</td>\n",
       "      <td>17/09</td>\n",
       "      <td>Defesa da Vida e da Família;\\nMeio Ambiente;\\n...</td>\n",
       "      <td>São Paulo (Capital), Piracicaba e região</td>\n",
       "      <td>&lt;p&gt;Alexander Muniz de Oliveira, nascido na cid...</td>\n",
       "      <td>alexdemadureira@al.sp.gov.br</td>\n",
       "      <td>300608</td>\n",
       "      <td>Alex Madureira</td>\n",
       "      <td>AL086</td>\n",
       "      <td>173</td>\n",
       "      <td>PL</td>\n",
       "      <td>(11) 3886-6676/ 6677</td>\n",
       "      <td>None</td>\n",
       "    </tr>\n",
       "    <tr>\n",
       "      <th>2</th>\n",
       "      <td>1178</td>\n",
       "      <td>1000000351</td>\n",
       "      <td>20420</td>\n",
       "      <td>EXE</td>\n",
       "      <td>Térreo</td>\n",
       "      <td>25/09</td>\n",
       "      <td>Melhoria da qualidade dos serviços públicos; \\...</td>\n",
       "      <td>Santana de Parnaíba, Guarujá, Osasco, Santos, ...</td>\n",
       "      <td>&lt;p&gt;Nascido em 1969, em Recife, capital do Pern...</td>\n",
       "      <td>altairmoraes@al.sp.gov.br</td>\n",
       "      <td>300609</td>\n",
       "      <td>Altair Moraes</td>\n",
       "      <td>AL094</td>\n",
       "      <td>T. 53</td>\n",
       "      <td>REPUBLICANOS</td>\n",
       "      <td>(11) 3886-6468/ 6476</td>\n",
       "      <td>None</td>\n",
       "    </tr>\n",
       "    <tr>\n",
       "      <th>3</th>\n",
       "      <td>1201</td>\n",
       "      <td>1000000948</td>\n",
       "      <td>20443</td>\n",
       "      <td>EXE</td>\n",
       "      <td>Térreo</td>\n",
       "      <td>14/04</td>\n",
       "      <td>Desenvolvimento Social e Humano</td>\n",
       "      <td>Grande ABC (Santo André, São Bernardo do Campo...</td>\n",
       "      <td>&lt;p&gt;Ana Carolina Rossi Barreto Serra nasceu em ...</td>\n",
       "      <td>acrbserra@al.sp.gov.br</td>\n",
       "      <td>300657</td>\n",
       "      <td>Ana Carolina Serra</td>\n",
       "      <td>AL105</td>\n",
       "      <td>T44</td>\n",
       "      <td>CIDADANIA</td>\n",
       "      <td>(11) 3886-6066/ 6067</td>\n",
       "      <td>None</td>\n",
       "    </tr>\n",
       "    <tr>\n",
       "      <th>4</th>\n",
       "      <td>398</td>\n",
       "      <td>10587</td>\n",
       "      <td>20436</td>\n",
       "      <td>EXE</td>\n",
       "      <td>Térreo</td>\n",
       "      <td>22/08</td>\n",
       "      <td>Empreendedorismo feminino;\\nSaneamento;\\nCultu...</td>\n",
       "      <td>Região Metropolitana de Campinas, Hortolândia</td>\n",
       "      <td>&lt;p&gt;Ana Perugini está no 3º mandato como deputa...</td>\n",
       "      <td>anaperugini@al.sp.gov.br</td>\n",
       "      <td>300466</td>\n",
       "      <td>Ana Perugini</td>\n",
       "      <td>AL123</td>\n",
       "      <td>T49</td>\n",
       "      <td>PT</td>\n",
       "      <td>(11) 3886-6082/ 6083</td>\n",
       "      <td>None</td>\n",
       "    </tr>\n",
       "  </tbody>\n",
       "</table>\n",
       "</div>"
      ],
      "text/plain": [
       "   IdDeputado       IdSPL   IdUA Situacao     Andar Aniversario  \\\n",
       "0        1139  1000000335  20455      EXE  2º andar       26/08   \n",
       "1        1140  1000000342  20399      EXE        1º       17/09   \n",
       "2        1178  1000000351  20420      EXE    Térreo       25/09   \n",
       "3        1201  1000000948  20443      EXE    Térreo       14/04   \n",
       "4         398       10587  20436      EXE    Térreo       22/08   \n",
       "\n",
       "                                      txtAreaAtuacao  \\\n",
       "0  Fiscalização e Controle das Contas Públicas;\\n...   \n",
       "1  Defesa da Vida e da Família;\\nMeio Ambiente;\\n...   \n",
       "2  Melhoria da qualidade dos serviços públicos; \\...   \n",
       "3                    Desenvolvimento Social e Humano   \n",
       "4  Empreendedorismo feminino;\\nSaneamento;\\nCultu...   \n",
       "\n",
       "                                    txtBaseEleitoral  \\\n",
       "0                         Todo o Estado de São Paulo   \n",
       "1           São Paulo (Capital), Piracicaba e região   \n",
       "2  Santana de Parnaíba, Guarujá, Osasco, Santos, ...   \n",
       "3  Grande ABC (Santo André, São Bernardo do Campo...   \n",
       "4      Região Metropolitana de Campinas, Hortolândia   \n",
       "\n",
       "                                           Biografia  \\\n",
       "0  <p>Danilo Mascarenhas de Balas, 47 anos, nasce...   \n",
       "1  <p>Alexander Muniz de Oliveira, nascido na cid...   \n",
       "2  <p>Nascido em 1969, em Recife, capital do Pern...   \n",
       "3  <p>Ana Carolina Rossi Barreto Serra nasceu em ...   \n",
       "4  <p>Ana Perugini está no 3º mandato como deputa...   \n",
       "\n",
       "                          Email  Matricula              NomeParlamentar  \\\n",
       "0   apfdanilobalas@al.sp.gov.br     300607  Agente Federal Danilo Balas   \n",
       "1  alexdemadureira@al.sp.gov.br     300608               Alex Madureira   \n",
       "2     altairmoraes@al.sp.gov.br     300609                Altair Moraes   \n",
       "3        acrbserra@al.sp.gov.br     300657           Ana Carolina Serra   \n",
       "4      anaperugini@al.sp.gov.br     300466                 Ana Perugini   \n",
       "\n",
       "  PlacaVeiculo   Sala       Partido              Telefone HomePage  \n",
       "0        AL146    255            PL        3886-6054/6052     None  \n",
       "1        AL086    173            PL  (11) 3886-6676/ 6677     None  \n",
       "2        AL094  T. 53  REPUBLICANOS  (11) 3886-6468/ 6476     None  \n",
       "3        AL105    T44     CIDADANIA  (11) 3886-6066/ 6067     None  \n",
       "4        AL123    T49            PT  (11) 3886-6082/ 6083     None  "
      ]
     },
     "execution_count": 120,
     "metadata": {},
     "output_type": "execute_result"
    }
   ],
   "source": [
    "# site alesp com os dados \n",
    "url = 'https://www.al.sp.gov.br/repositorioDados/deputados/deputados.xml'\n",
    "\n",
    "# conexão\n",
    "conexao = requests.get(url)\n",
    "\n",
    "\n",
    "# ler os dados\n",
    "\n",
    "base_deputados = pd.read_xml( conexao.content )\n",
    "\n",
    "#verificando as primeiras linhas\n",
    "base_deputados.head()"
   ]
  },
  {
   "cell_type": "code",
   "execution_count": 137,
   "id": "b5398b9e-bb12-4eb7-995f-f6cbf773c82c",
   "metadata": {},
   "outputs": [
    {
     "name": "stderr",
     "output_type": "stream",
     "text": [
      "/var/folders/cc/ng38gmpj2rj434r31wg7c19r0000gp/T/ipykernel_67827/3684804674.py:34: FutureWarning: Series.__getitem__ treating keys as positions is deprecated. In a future version, integer keys will always be treated as labels (consistent with DataFrame behavior). To access a value by position, use `ser.iloc[pos]`\n",
      "  plt.text(x=analise.index[loop], y=analise.IdDeputado[loop] + 0.3, s=analise.IdDeputado[loop], size=14)\n"
     ]
    },
    {
     "data": {
      "image/png": "[encoded data removed]",
      "text/plain": [
       "<Figure size 1500x1000 with 2 Axes>"
      ]
     },
     "metadata": {},
     "output_type": "display_data"
    }
   ],
   "source": [
    "analise = base_deputados.groupby(by=['Partido']).count().sort_values(by=['IdDeputado'], ascending=False)\n",
    "analise_percentual = analise.IdDeputado.cumsum() / analise.IdDeputado.sum() * 100\n",
    "\n",
    "\n",
    "# import matplotlib.pyplot as plt\n",
    "\n",
    "# print(plt.style.available)\n",
    "\n",
    "\n",
    "\n",
    "\n",
    "figura = plt.figure(figsize=(15,10))\n",
    "\n",
    "plt.style.use('seaborn-v0_8-darkgrid')\n",
    "plt.suptitle('quantidade de deputados por partido na camara de sp - alesp', fontsize= 18)\n",
    "\n",
    "plt.subplot(2,1,1)\n",
    "plt.title('quantidade por partido', fontsize=14)\n",
    "plt.bar(\n",
    "    analise.index,\n",
    "    analise.IdDeputado,\n",
    "    color='#a3acff',\n",
    "    linewidth=2,\n",
    "    edgecolor='blue',\n",
    "    alpha = 0.5\n",
    ")\n",
    "\n",
    "plt.ylabel('quantidade')\n",
    "plt.xticks(rotation=30)\n",
    "\n",
    "plt.ylim([0, analise.IdDeputado.max() + analise.IdDeputado.max() * 0.2 ])\n",
    "\n",
    "for loop in range(len(analise)):\n",
    "    plt.text(x=analise.index[loop], y=analise.IdDeputado[loop] + 0.3, s=analise.IdDeputado[loop], size=14)\n",
    "\n",
    "plt.subplot(2,1,2)\n",
    "plt.title('acumulado por partido', fontsize = 14)\n",
    "plt.plot(\n",
    "    analise_percentual.index,\n",
    "    analise_percentual.values,\n",
    "    marker = 'o',\n",
    "    markeredgecolor='red'\n",
    ")\n",
    "\n",
    "plt.ylabel('% acumulado')\n",
    "plt.xlabel('partidos')\n",
    "plt.xticks( rotation=30)\n",
    "\n",
    "plt.subplots_adjust(hspace=0.4, top=0.9)\n",
    "\n",
    "rodape = 'bootcamp data analytics | by Renato Mota '\n",
    "figura.text(0.91, -0.04, rodape, ha='right', va='bottom', size=14);"
   ]
  },
  {
   "cell_type": "code",
   "execution_count": 140,
   "id": "5ee52f4d-0d36-49ae-9f18-2dfd4d9b41c7",
   "metadata": {},
   "outputs": [
    {
     "name": "stdout",
     "output_type": "stream",
     "text": [
      "ola mundo\n",
      "ola mundo\n"
     ]
    }
   ],
   "source": [
    "print('ola mundo')\n",
    "print('ola mundo')"
   ]
  },
  {
   "cell_type": "code",
   "execution_count": 146,
   "id": "3fade9d0-2783-4748-8b1f-07a37cbbf53a",
   "metadata": {},
   "outputs": [
    {
     "data": {
      "text/plain": [
       "(8, 0, 200, 0.5)"
      ]
     },
     "execution_count": 146,
     "metadata": {},
     "output_type": "execute_result"
    }
   ],
   "source": [
    "4+4, 4-4, 2*100, 2/4"
   ]
  },
  {
   "cell_type": "code",
   "execution_count": 171,
   "id": "793ae092-1f4e-4ab5-b840-bb2676a11e7f",
   "metadata": {},
   "outputs": [
    {
     "name": "stdout",
     "output_type": "stream",
     "text": [
      "essa variavel é = 100\n",
      "essa variavel é = 100\n",
      "essa variavel é = 100\n"
     ]
    }
   ],
   "source": [
    "var = 100\n",
    "print('essa variavel é =',var)\n",
    "print(f'essa variavel é = {var}')\n",
    "print('essa variavel é = {}'.format(var))"
   ]
  },
  {
   "cell_type": "markdown",
   "id": "92ba5cb2-5bb9-45b6-bda4-096e88641ecc",
   "metadata": {},
   "source": [
    "operações\n"
   ]
  },
  {
   "cell_type": "code",
   "execution_count": 173,
   "id": "6fca8429-c69f-49c2-b466-1bd67f960ba2",
   "metadata": {},
   "outputs": [
    {
     "data": {
      "text/plain": [
       "(7, 0, 20, 5.0, 4, 1, 4)"
      ]
     },
     "execution_count": 173,
     "metadata": {},
     "output_type": "execute_result"
    }
   ],
   "source": [
    "soma = 3+4\n",
    "sub = 4-4\n",
    "mult = 10*2\n",
    "div = 10/2\n",
    "expo = 2**2\n",
    "resto = 9%4\n",
    "div_chao = 9//2\n",
    "\n",
    "soma, sub, mult, div, expo, resto, div_chao"
   ]
  },
  {
   "cell_type": "markdown",
   "id": "3aebc6f2-c147-4228-ae7e-1634a3e208ba",
   "metadata": {},
   "source": [
    "tipos"
   ]
  },
  {
   "cell_type": "code",
   "execution_count": 247,
   "id": "69af1d03-5ea6-41d7-a9b0-7ee437bbf442",
   "metadata": {},
   "outputs": [
    {
     "name": "stdout",
     "output_type": "stream",
     "text": [
      "100 100.1 qualquer coisa False [1, 2, 3, 4, 5] ['renato', 'mota', 'costa'] [True, 1, 10.9, 'string', 3] (1, 2, 3, 4) (True, 'none', 9, 10) {'index': 'valor', 'nome': 'renato', 'idade': 28}\n"
     ]
    },
    {
     "data": {
      "text/html": [
       "<div>\n",
       "<style scoped>\n",
       "    .dataframe tbody tr th:only-of-type {\n",
       "        vertical-align: middle;\n",
       "    }\n",
       "\n",
       "    .dataframe tbody tr th {\n",
       "        vertical-align: top;\n",
       "    }\n",
       "\n",
       "    .dataframe thead th {\n",
       "        text-align: right;\n",
       "    }\n",
       "</style>\n",
       "<table border=\"1\" class=\"dataframe\">\n",
       "  <thead>\n",
       "    <tr style=\"text-align: right;\">\n",
       "      <th></th>\n",
       "      <th>infecção_jan</th>\n",
       "      <th>infecção_fev</th>\n",
       "      <th>infecção_mar</th>\n",
       "    </tr>\n",
       "  </thead>\n",
       "  <tbody>\n",
       "    <tr>\n",
       "      <th>0</th>\n",
       "      <td>10</td>\n",
       "      <td>12</td>\n",
       "      <td>20</td>\n",
       "    </tr>\n",
       "  </tbody>\n",
       "</table>\n",
       "</div>"
      ],
      "text/plain": [
       "   infecção_jan  infecção_fev  infecção_mar\n",
       "0            10            12            20"
      ]
     },
     "execution_count": 247,
     "metadata": {},
     "output_type": "execute_result"
    }
   ],
   "source": [
    "inteiro = 100\n",
    "inteiro = int(100)\n",
    "\n",
    "flutuante = 100.10\n",
    "flutuante = float(100.10)\n",
    "string_palavras = 'qualquer coisa'\n",
    "string_palavras = str('qualquer coisa')\n",
    "\n",
    "booleanos = True\n",
    "booleanos = False\n",
    "\n",
    "lista_1 = [1,2,3,4,5 ]\n",
    "lista_2 = ['renato', 'mota', 'costa']\n",
    "lista_3 = [True, 1, 10.90, 'string', 9-6]\n",
    "\n",
    "#tupla é imutavel\n",
    "tupla_1 = (1, 2, 3, 4)\n",
    "tupla_2 = (True, 'none', 9, 10)\n",
    "\n",
    "dicionarios = {'index':'valor', 'nome':'renato','idade':28}\n",
    "\n",
    "print(\n",
    "    inteiro, flutuante, string_palavras, booleanos, lista_1, lista_2, lista_3, tupla_1, tupla_2, dicionarios\n",
    ")\n",
    "\n",
    "dados_base = {\n",
    "    'infecção_jan': 10,\n",
    "    'infecção_fev': 12,\n",
    "    'infecção_mar': 20\n",
    "}\n",
    "pd.DataFrame(dados_base, index=[0])"
   ]
  },
  {
   "cell_type": "code",
   "execution_count": 249,
   "id": "7e053ff6-8081-419f-b782-5bce4bb9b8a5",
   "metadata": {},
   "outputs": [
    {
     "name": "stdout",
     "output_type": "stream",
     "text": [
      "1 3 3\n"
     ]
    }
   ],
   "source": [
    "#nomear variaveis | exemplo 1\n",
    "a, b, c = 1, c, 3\n",
    "print(a, b, c)"
   ]
  },
  {
   "cell_type": "code",
   "execution_count": 251,
   "id": "f774aef3-9193-44c0-9417-1e12eb12aa27",
   "metadata": {},
   "outputs": [
    {
     "name": "stdout",
     "output_type": "stream",
     "text": [
      "50 50 50\n"
     ]
    }
   ],
   "source": [
    "#nomear variaveis | exemplo 2\n",
    "morango = uva = laranja = 50\n",
    "\n",
    "print(morango, uva, laranja)"
   ]
  },
  {
   "cell_type": "code",
   "execution_count": 253,
   "id": "55f5e8a5-2233-4bd8-afee-a39855d76481",
   "metadata": {},
   "outputs": [
    {
     "name": "stdout",
     "output_type": "stream",
     "text": [
      "vw = vw\n",
      "honda = honda\n",
      "gm = gm\n"
     ]
    }
   ],
   "source": [
    "#renomear variaveis | exemplo 3\n",
    "carros = ['vw','honda','gm']\n",
    "marca_1, marca_2, marca_3 = carros\n",
    "\n",
    "print(carros[0],'=', marca_1)\n",
    "print(carros[1],'=', marca_2)\n",
    "print(carros[2],'=', marca_3)"
   ]
  },
  {
   "cell_type": "code",
   "execution_count": 255,
   "id": "22b0d56d-5f28-4163-b7af-a0cf41b408ef",
   "metadata": {},
   "outputs": [
    {
     "name": "stdout",
     "output_type": "stream",
     "text": [
      "renato mota\n",
      "renato mota\n"
     ]
    }
   ],
   "source": [
    "# combinar variaveis\n",
    "nome = 'renato'\n",
    "sobrenome = 'mota'\n",
    "nome_completo = nome + ' ' + sobrenome\n",
    "nome_completo2 = f'{nome} {sobrenome}'\n",
    "\n",
    "print(nome_completo)\n",
    "print(nome_completo2)"
   ]
  },
  {
   "cell_type": "code",
   "execution_count": 257,
   "id": "6c80dbb5-950c-43b2-bdc6-1e4c95f0e8e8",
   "metadata": {},
   "outputs": [
    {
     "data": {
      "text/plain": [
       "'renato100.9[1, 2, 3, 4, 5]'"
      ]
     },
     "execution_count": 257,
     "metadata": {},
     "output_type": "execute_result"
    }
   ],
   "source": [
    "nome + str(90 + float(10.90)) + str( lista_1)"
   ]
  },
  {
   "cell_type": "code",
   "execution_count": 277,
   "id": "cab534aa-2325-4252-9588-b2c5e685f2f2",
   "metadata": {},
   "outputs": [
    {
     "data": {
      "text/plain": [
       "(int, float, bool, str, list, list, dict)"
      ]
     },
     "execution_count": 277,
     "metadata": {},
     "output_type": "execute_result"
    }
   ],
   "source": [
    "type(inteiro), type(flutuante), type(booleanos), type(string_palavras), type(lista_2), type(lista_2), type(dicionarios)"
   ]
  },
  {
   "cell_type": "code",
   "execution_count": 279,
   "id": "7511ffd6-062d-4acf-9807-c812621b7d1d",
   "metadata": {},
   "outputs": [
    {
     "data": {
      "text/plain": [
       "(pandas.core.frame.DataFrame, matplotlib.figure.Figure, numpy.ndarray)"
      ]
     },
     "execution_count": 279,
     "metadata": {},
     "output_type": "execute_result"
    }
   ],
   "source": [
    "type(base_deputados), type(figura), type(analise.values)"
   ]
  },
  {
   "cell_type": "code",
   "execution_count": 285,
   "id": "1167bb18-a0d4-4738-9f64-f2bb5a56b76f",
   "metadata": {},
   "outputs": [
    {
     "data": {
      "text/plain": [
       "5.57"
      ]
     },
     "execution_count": 285,
     "metadata": {},
     "output_type": "execute_result"
    }
   ],
   "source": [
    "#round\n",
    "taxa = 5.56789\n",
    "\n",
    "round(taxa,2)"
   ]
  },
  {
   "cell_type": "code",
   "execution_count": 297,
   "id": "c1bccfe4-8a97-4d42-90eb-6c8a966dc4d7",
   "metadata": {},
   "outputs": [
    {
     "name": "stdin",
     "output_type": "stream",
     "text": [
      "qual sua idade 28\n"
     ]
    },
    {
     "name": "stdout",
     "output_type": "stream",
     "text": [
      "corra, faltam 52 anos para o final\n"
     ]
    }
   ],
   "source": [
    "#função input\n",
    "idade = input('qual sua idade')\n",
    "\n",
    "restante = 80 - int(idade)\n",
    "print(f'corra, faltam {restante} anos para o final')"
   ]
  },
  {
   "cell_type": "code",
   "execution_count": 315,
   "id": "8d9002c1-e7bd-416c-a1d8-475d6a5808fb",
   "metadata": {},
   "outputs": [
    {
     "name": "stdout",
     "output_type": "stream",
     "text": [
      "8 é maior que 7:  True\n",
      "8 é maior que 7:  False\n",
      "8 é maior que 7:  False\n",
      "8 é maior que 7:  True\n"
     ]
    }
   ],
   "source": [
    "# operadore de comparação \n",
    "\n",
    "igual = '=='\n",
    "diferente = '!='\n",
    "maior = '>'\n",
    "menor = '<'\n",
    "maiorOuIgual = '>='\n",
    "menorOuIgual = '<='\n",
    "\n",
    "print('8 é maior que 7: ',8>7) \n",
    "print('8 é maior que 7: ',8<7)\n",
    "print('8 é maior que 7: ',8==7)\n",
    "print('8 é maior que 7: ',8!=7)"
   ]
  },
  {
   "cell_type": "code",
   "execution_count": 313,
   "id": "77d0e665-5085-4137-b512-3126c67729fc",
   "metadata": {},
   "outputs": [
    {
     "data": {
      "text/plain": [
       "False"
      ]
     },
     "execution_count": 313,
     "metadata": {},
     "output_type": "execute_result"
    }
   ],
   "source": [
    "a = 90\n",
    "\n",
    "a> 100"
   ]
  },
  {
   "cell_type": "code",
   "execution_count": 365,
   "id": "f8348346-306e-45fe-8b33-077cb9bad8b2",
   "metadata": {},
   "outputs": [
    {
     "name": "stdout",
     "output_type": "stream",
     "text": [
      "8 é maior que 7 e 7 é maior que 6 True\n",
      "8 é maior que 7 e 7 é maior que 6 False\n",
      "8 é maior que 7 e 7 é maior que 6 True\n",
      "8 nao esta nessa lista \"[ 7, 8, 9]\", False\n",
      "8 nao esta nessa lista \"[ 7, 8, 9]\", True\n"
     ]
    }
   ],
   "source": [
    "# operadores de comparação \\ 2\n",
    "\n",
    "e = 'and'\n",
    "ou = 'or'\n",
    "negacao = 'not'\n",
    "dentro = 'in'\n",
    "\n",
    "print('8 é maior que 7 e 7 é maior que 6', 8 >7 and 7 > 6)\n",
    "print('8 é maior que 7 e 7 é maior que 6', 8 >7 and 7 > 8)\n",
    "print('8 é maior que 7 e 7 é maior que 6', 8 >7 or 7 > 8)\n",
    "\n",
    "print('8 nao esta nessa lista \"[ 7, 8, 9]\",', 8 not in[ 7, 8, 9])\n",
    "print('8 nao esta nessa lista \"[ 7, 8, 9]\",', 8 in[ 7, 8, 9])"
   ]
  },
  {
   "cell_type": "code",
   "execution_count": 389,
   "id": "5754a161-e94b-484d-9bc1-93992e8aa9ea",
   "metadata": {
    "scrolled": true
   },
   "outputs": [
    {
     "data": {
      "text/plain": [
       "True"
      ]
     },
     "execution_count": 389,
     "metadata": {},
     "output_type": "execute_result"
    }
   ],
   "source": [
    "'11' in str(base_deputados.Telefone[2])"
   ]
  },
  {
   "cell_type": "code",
   "execution_count": 353,
   "id": "87b7fc3a-3003-49f2-96c8-96b360e60e7f",
   "metadata": {},
   "outputs": [
    {
     "data": {
      "text/html": [
       "<div>\n",
       "<style scoped>\n",
       "    .dataframe tbody tr th:only-of-type {\n",
       "        vertical-align: middle;\n",
       "    }\n",
       "\n",
       "    .dataframe tbody tr th {\n",
       "        vertical-align: top;\n",
       "    }\n",
       "\n",
       "    .dataframe thead th {\n",
       "        text-align: right;\n",
       "    }\n",
       "</style>\n",
       "<table border=\"1\" class=\"dataframe\">\n",
       "  <thead>\n",
       "    <tr style=\"text-align: right;\">\n",
       "      <th></th>\n",
       "      <th>IdDeputado</th>\n",
       "      <th>IdSPL</th>\n",
       "      <th>IdUA</th>\n",
       "      <th>Situacao</th>\n",
       "      <th>Andar</th>\n",
       "      <th>Aniversario</th>\n",
       "      <th>txtAreaAtuacao</th>\n",
       "      <th>txtBaseEleitoral</th>\n",
       "      <th>Biografia</th>\n",
       "      <th>Email</th>\n",
       "      <th>Matricula</th>\n",
       "      <th>NomeParlamentar</th>\n",
       "      <th>PlacaVeiculo</th>\n",
       "      <th>Sala</th>\n",
       "      <th>Partido</th>\n",
       "      <th>Telefone</th>\n",
       "      <th>HomePage</th>\n",
       "    </tr>\n",
       "  </thead>\n",
       "  <tbody>\n",
       "    <tr>\n",
       "      <th>7</th>\n",
       "      <td>429</td>\n",
       "      <td>12381</td>\n",
       "      <td>20433</td>\n",
       "      <td>EXE</td>\n",
       "      <td>2º</td>\n",
       "      <td>07/06</td>\n",
       "      <td>Educação;\\nInfraestrutura;\\nSaúde;</td>\n",
       "      <td>Grande São Paulo, Vale do Ribeira, Vale do Par...</td>\n",
       "      <td>&lt;p&gt;O deputado estadual André do Prado lutou mu...</td>\n",
       "      <td>andredoprado@al.sp.gov.br</td>\n",
       "      <td>300497</td>\n",
       "      <td>André do Prado</td>\n",
       "      <td>AL037</td>\n",
       "      <td>245</td>\n",
       "      <td>PL</td>\n",
       "      <td>(11) 3886-6562/ 6563</td>\n",
       "      <td>None</td>\n",
       "    </tr>\n",
       "    <tr>\n",
       "      <th>38</th>\n",
       "      <td>1213</td>\n",
       "      <td>1000000973</td>\n",
       "      <td>20419</td>\n",
       "      <td>EXE</td>\n",
       "      <td>2º</td>\n",
       "      <td>10/04</td>\n",
       "      <td>Contra a Ideologia de Gênero para Crianças;\\nD...</td>\n",
       "      <td>Todo o Estado de São Paulo</td>\n",
       "      <td>&lt;p&gt;Fabiana de Lima Barroso Souza, 30 anos, fic...</td>\n",
       "      <td>fabianab@al.sp.gov.br</td>\n",
       "      <td>300669</td>\n",
       "      <td>Fabiana Bolsonaro</td>\n",
       "      <td>AL099</td>\n",
       "      <td>257</td>\n",
       "      <td>PL</td>\n",
       "      <td>(11) 3886-6504/ 6505</td>\n",
       "      <td>None</td>\n",
       "    </tr>\n",
       "    <tr>\n",
       "      <th>52</th>\n",
       "      <td>1220</td>\n",
       "      <td>1000000987</td>\n",
       "      <td>20383</td>\n",
       "      <td>EXE</td>\n",
       "      <td>2º</td>\n",
       "      <td>20/11</td>\n",
       "      <td>Educação;\\nAgronegócios;</td>\n",
       "      <td>Estado de São Paulo</td>\n",
       "      <td>&lt;p&gt;Lucas Bove é paulistano, formado em Adminis...</td>\n",
       "      <td>lucasbove@al.sp.gov.br</td>\n",
       "      <td>300676</td>\n",
       "      <td>Lucas Bove</td>\n",
       "      <td>AL041</td>\n",
       "      <td>207</td>\n",
       "      <td>PL</td>\n",
       "      <td>(11) 3886-6632/ 6634</td>\n",
       "      <td>None</td>\n",
       "    </tr>\n",
       "    <tr>\n",
       "      <th>86</th>\n",
       "      <td>1144</td>\n",
       "      <td>1000000370</td>\n",
       "      <td>20404</td>\n",
       "      <td>EXE</td>\n",
       "      <td>2º</td>\n",
       "      <td>08/01</td>\n",
       "      <td>Transporte;\\nSegurança Pública; \\nEducação;\\nE...</td>\n",
       "      <td>Baixada Santista</td>\n",
       "      <td>&lt;p&gt;Matheus Coimbra Martins de Aguiar, conhecid...</td>\n",
       "      <td>tenentecoimbra@al.sp.gov.br</td>\n",
       "      <td>300646</td>\n",
       "      <td>Tenente Coimbra</td>\n",
       "      <td>AL119</td>\n",
       "      <td>258</td>\n",
       "      <td>PL</td>\n",
       "      <td>(11)3886-6776 / 6777</td>\n",
       "      <td>None</td>\n",
       "    </tr>\n",
       "  </tbody>\n",
       "</table>\n",
       "</div>"
      ],
      "text/plain": [
       "    IdDeputado       IdSPL   IdUA Situacao Andar Aniversario  \\\n",
       "7          429       12381  20433      EXE    2º       07/06   \n",
       "38        1213  1000000973  20419      EXE    2º       10/04   \n",
       "52        1220  1000000987  20383      EXE    2º       20/11   \n",
       "86        1144  1000000370  20404      EXE    2º       08/01   \n",
       "\n",
       "                                       txtAreaAtuacao  \\\n",
       "7                  Educação;\\nInfraestrutura;\\nSaúde;   \n",
       "38  Contra a Ideologia de Gênero para Crianças;\\nD...   \n",
       "52                           Educação;\\nAgronegócios;   \n",
       "86  Transporte;\\nSegurança Pública; \\nEducação;\\nE...   \n",
       "\n",
       "                                     txtBaseEleitoral  \\\n",
       "7   Grande São Paulo, Vale do Ribeira, Vale do Par...   \n",
       "38                         Todo o Estado de São Paulo   \n",
       "52                                Estado de São Paulo   \n",
       "86                                   Baixada Santista   \n",
       "\n",
       "                                            Biografia  \\\n",
       "7   <p>O deputado estadual André do Prado lutou mu...   \n",
       "38  <p>Fabiana de Lima Barroso Souza, 30 anos, fic...   \n",
       "52  <p>Lucas Bove é paulistano, formado em Adminis...   \n",
       "86  <p>Matheus Coimbra Martins de Aguiar, conhecid...   \n",
       "\n",
       "                          Email  Matricula    NomeParlamentar PlacaVeiculo  \\\n",
       "7     andredoprado@al.sp.gov.br     300497     André do Prado        AL037   \n",
       "38        fabianab@al.sp.gov.br     300669  Fabiana Bolsonaro        AL099   \n",
       "52       lucasbove@al.sp.gov.br     300676         Lucas Bove        AL041   \n",
       "86  tenentecoimbra@al.sp.gov.br     300646    Tenente Coimbra        AL119   \n",
       "\n",
       "   Sala Partido              Telefone HomePage  \n",
       "7   245      PL  (11) 3886-6562/ 6563     None  \n",
       "38  257      PL  (11) 3886-6504/ 6505     None  \n",
       "52  207      PL  (11) 3886-6632/ 6634     None  \n",
       "86  258      PL  (11)3886-6776 / 6777     None  "
      ]
     },
     "execution_count": 353,
     "metadata": {},
     "output_type": "execute_result"
    }
   ],
   "source": [
    "# no pandas \"and e \"or\" é & ou |\n",
    "base_deputados.loc[ (base_deputados['Partido'] == 'PL') & (base_deputados['Andar'] == '2º')]"
   ]
  },
  {
   "cell_type": "code",
   "execution_count": 391,
   "id": "1a3daa51-398a-4bc2-a798-335971609832",
   "metadata": {},
   "outputs": [],
   "source": [
    "lista = []"
   ]
  },
  {
   "cell_type": "code",
   "execution_count": 415,
   "id": "c8a28a60-6590-4a49-9324-0b802bcc7a91",
   "metadata": {},
   "outputs": [
    {
     "data": {
      "text/plain": [
       "['incluindo algo', 'incluindo algo', 1, True]"
      ]
     },
     "execution_count": 415,
     "metadata": {},
     "output_type": "execute_result"
    }
   ],
   "source": [
    "lista.append('incluindo algo')\n",
    "lista.append( 1 )el\n",
    "lista.append( True )\n",
    "lista"
   ]
  },
  {
   "cell_type": "code",
   "execution_count": 417,
   "id": "f4b7e1df-0706-4da1-8e4b-62b63f4f5f8e",
   "metadata": {},
   "outputs": [
    {
     "data": {
      "text/plain": [
       "'incluindo algo'"
      ]
     },
     "execution_count": 417,
     "metadata": {},
     "output_type": "execute_result"
    }
   ],
   "source": [
    "lista[0]"
   ]
  },
  {
   "cell_type": "code",
   "execution_count": 419,
   "id": "bec1e8e4-d345-473c-acf3-bfee3da5f6e4",
   "metadata": {},
   "outputs": [
    {
     "data": {
      "text/plain": [
       "4"
      ]
     },
     "execution_count": 419,
     "metadata": {},
     "output_type": "execute_result"
    }
   ],
   "source": [
    "len(lista)"
   ]
  },
  {
   "cell_type": "code",
   "execution_count": 421,
   "id": "a867a7e1-b916-422a-be3c-f097638b94be",
   "metadata": {},
   "outputs": [
    {
     "data": {
      "text/plain": [
       "True"
      ]
     },
     "execution_count": 421,
     "metadata": {},
     "output_type": "execute_result"
    }
   ],
   "source": [
    "lista[-1]"
   ]
  },
  {
   "cell_type": "code",
   "execution_count": 423,
   "id": "bc607929-8e62-4621-b669-0a24e82cc0bb",
   "metadata": {},
   "outputs": [
    {
     "data": {
      "text/plain": [
       "['incluindo algo', 'incluindo algo', 1, True]"
      ]
     },
     "execution_count": 423,
     "metadata": {},
     "output_type": "execute_result"
    }
   ],
   "source": [
    "lista"
   ]
  },
  {
   "cell_type": "code",
   "execution_count": 425,
   "id": "280a38b8-3dc9-4a2c-8246-3eac39cb14bc",
   "metadata": {},
   "outputs": [],
   "source": [
    "del lista[-1]"
   ]
  },
  {
   "cell_type": "code",
   "execution_count": 427,
   "id": "3b626a55-3e51-4c61-9660-6685a467dc49",
   "metadata": {},
   "outputs": [
    {
     "data": {
      "text/plain": [
       "['incluindo algo', 'incluindo algo', 1]"
      ]
     },
     "execution_count": 427,
     "metadata": {},
     "output_type": "execute_result"
    }
   ],
   "source": [
    "lista"
   ]
  },
  {
   "cell_type": "code",
   "execution_count": 449,
   "id": "c375ddad-121a-4c7f-83f6-8d47c7225342",
   "metadata": {},
   "outputs": [
    {
     "data": {
      "text/plain": [
       "(datetime.datetime, datetime.datetime(2024, 7, 9, 0, 0))"
      ]
     },
     "execution_count": 449,
     "metadata": {},
     "output_type": "execute_result"
    }
   ],
   "source": [
    "#pacotes\n",
    "\n",
    "from datetime import datetime\n",
    "\n",
    "data = '09/07/24'\n",
    "type(data)\n",
    "\n",
    "conversao = datetime.strptime( data, '%d/%m/%y')\n",
    "type(conversao), conversao"
   ]
  },
  {
   "cell_type": "code",
   "execution_count": 468,
   "id": "73992993-6879-4359-8d81-02b4bc7a4ca7",
   "metadata": {},
   "outputs": [
    {
     "name": "stdin",
     "output_type": "stream",
     "text": [
      "qual o seu salario 6300\n"
     ]
    },
    {
     "name": "stdout",
     "output_type": "stream",
     "text": [
      " o salario informado foi de : 6300.0\n",
      " \n",
      "{'inss': 693.0, 'vale_t': 252.0, 'vale_r': 252.0, 'ir': 1701.0, 'desconto_total': 2898.0, 'salario_liquido': 3402.0}\n",
      "2898.0\n"
     ]
    }
   ],
   "source": [
    "# folha de pagamento \n",
    "salario = float( input('qual o seu salario'))\n",
    "\n",
    "inss = 0.11\n",
    "vale_refeicao = 0.04\n",
    "vale_transporte = 0.04\n",
    "ir = 0.27\n",
    "\n",
    "#organizar\n",
    "descontos = {\n",
    "    'inss' : salario * inss,\n",
    "    'vale_t' : salario * vale_transporte,\n",
    "    'vale_r' : salario * vale_refeicao,\n",
    "    'ir' : salario * ir\n",
    "}\n",
    "\n",
    "desconto = descontos['inss'] + descontos['vale_t'] + descontos['vale_r'] + descontos['ir']\n",
    "salario_liquido = salario - desconto\n",
    "\n",
    "descontos['desconto_total'] = desconto\n",
    "descontos['salario_liquido'] = salario_liquido\n",
    "\n",
    "\n",
    "print(f' o salario informado foi de : {salario}')\n",
    "print(' ')\n",
    "print(descontos)\n",
    "print(desconto)\n",
    "\n",
    "pd.DataFrame(descontos, index=[0]).to_excel('dados_pagamento.xlsx')\n"
   ]
  },
  {
   "cell_type": "code",
   "execution_count": null,
   "id": "8e53551f-0e0f-428a-9e61-5b72a51c6fc3",
   "metadata": {},
   "outputs": [],
   "source": []
  }
 ],
 "metadata": {
  "kernelspec": {
   "display_name": "Python 3 (ipykernel)",
   "language": "python",
   "name": "python3"
  },
  "language_info": {
   "codemirror_mode": {
    "name": "ipython",
    "version": 3
   },
   "file_extension": ".py",
   "mimetype": "text/x-python",
   "name": "python",
   "nbconvert_exporter": "python",
   "pygments_lexer": "ipython3",
   "version": "3.11.7"
  }
 },
 "nbformat": 4,
 "nbformat_minor": 5
}
